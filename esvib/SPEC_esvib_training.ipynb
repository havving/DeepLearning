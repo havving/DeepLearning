{
 "cells": [
  {
   "cell_type": "code",
   "execution_count": 1,
   "metadata": {},
   "outputs": [],
   "source": [
    "# -*- config utf-8 -*-\n",
    "import numpy as np\n",
    "import tensorflow as tf\n",
    "import sys\n",
    "import time\n",
    "import warnings\n",
    " \n",
    "# 경고 메시지 무시\n",
    "warnings.filterwarnings(action='ignore')"
   ]
  },
  {
   "cell_type": "code",
   "execution_count": 2,
   "metadata": {},
   "outputs": [],
   "source": [
    "# --- 설정 변수 정의 ---\n",
    "# 작업 디렉토리 정의\n",
    "# 학습 데이터 파일명\n",
    "datafile = \"/src/data/DataSet/SPECData.npy\"\n",
    "# 진동 분석 모델 디렉토리명\n",
    "modeldir = \"/src/hyebin/model/SPEC-03\"\n",
    "# tensorboard용 log 디렉토리명\n",
    "tblogdir = \"/src/hyebin/logs\"\n",
    "\n",
    "# 학습 데이터 설정\n",
    "# 학습 데이터 중 최초 데이터 위치\n",
    "base_index = 3000\n",
    "# 학습할 데이터의 개수\n",
    "training_count = 2000\n",
    "\n",
    "# 전결합층 설정\n",
    "# 전결합층 첫번째 레이어 unit 개수\n",
    "layer1_unit_count = 1024\n",
    "# 전결합층 두번째 레이어 unit 개수\n",
    "layer2_unit_count = 1024\n",
    "# 전결합층 세번째 레이어 unit 개수\n",
    "layer3_unit_count = 1024\n",
    "# 전결합층 dropout 비율\n",
    "dropout_rate = 0.4\n",
    "\n",
    "# 최적화 함수 설정\n",
    "# 최적화 함수 학습률\n",
    "learning_rate = 0.0001\n",
    "\n",
    "# 학습 수행 설정\n",
    "# 최대 학습 수행 횟수\n",
    "epoch_count = 5000\n",
    "# 학습 중단 시킬 최소 loss값\n",
    "loss_limit = 0.0001"
   ]
  },
  {
   "cell_type": "code",
   "execution_count": 3,
   "metadata": {},
   "outputs": [
    {
     "name": "stdout",
     "output_type": "stream",
     "text": [
      "load data :  /src/data/DataSet/SPECData.npy\n",
      "load complete\n"
     ]
    }
   ],
   "source": [
    "# --- 학습 데이터 로딩 ---\n",
    "# 데이터 구조\n",
    "# data[0] : 학습용 데이터(이미지 개수, 48, 64, 3)\n",
    "# data[1] : 테스트용 데이터(이미지 개수, 48, 64, 3)\n",
    "# data[2] : 학습용 데이터의 라벨(이미지 개수, 5)\n",
    "# data[3] : 테스트용 데이터의 라벨(이미지 개수, 5)\n",
    "print(\"load data : \", datafile)\n",
    "data = np.load(datafile, allow_pickle=True)\n",
    "print(\"load complete\")\n",
    "\n",
    "# 학습용 데이터와 라벨을 사용함\n",
    "train_x = data[0][base_index:base_index + training_count]\n",
    "train_y = data[2][base_index:base_index + training_count]"
   ]
  },
  {
   "cell_type": "code",
   "execution_count": 4,
   "metadata": {},
   "outputs": [],
   "source": [
    "# --- VGG Net 신경망 구성 ---\n",
    "# 입력층 : 48 * 64의 Spectogram 전처리 데이터\n",
    "# 특징 추출층 : 2개 합성곱 필터, 1개의 필터를 2회 수행\n",
    "# 전 결합층 : 3개의 은닉층(층당 unit 1024개) → 단층에서 발생하는 xor 문제 회피, 1개의 추력층(unit 5개)\n",
    "use_dropout = tf.placeholder(tf.bool, name=\"use_dropout\")"
   ]
  },
  {
   "cell_type": "code",
   "execution_count": 5,
   "metadata": {},
   "outputs": [],
   "source": [
    "# --- 입력층 ---\n",
    "# Spectogram\n",
    "x = tf.placeholder(tf.float32, [None, 48, 64, 3], name=\"in\")"
   ]
  },
  {
   "cell_type": "code",
   "execution_count": 6,
   "metadata": {},
   "outputs": [
    {
     "name": "stdout",
     "output_type": "stream",
     "text": [
      "WARNING:tensorflow:From <ipython-input-6-9695d4a4918f>:7: conv2d (from tensorflow.python.layers.convolutional) is deprecated and will be removed in a future version.\n",
      "Instructions for updating:\n",
      "Use keras.layers.conv2d instead.\n",
      "WARNING:tensorflow:From /usr/local/lib/python3.5/dist-packages/tensorflow/python/framework/op_def_library.py:263: colocate_with (from tensorflow.python.framework.ops) is deprecated and will be removed in a future version.\n",
      "Instructions for updating:\n",
      "Colocations handled automatically by placer.\n",
      "WARNING:tensorflow:From <ipython-input-6-9695d4a4918f>:21: max_pooling2d (from tensorflow.python.layers.pooling) is deprecated and will be removed in a future version.\n",
      "Instructions for updating:\n",
      "Use keras.layers.max_pooling2d instead.\n"
     ]
    }
   ],
   "source": [
    "# --- 특징 추출층 ---\n",
    "conv11 = tf.layers.conv2d(\n",
    "    inputs=x,\n",
    "    filters=32,\n",
    "    kernel_size=[5, 5],\n",
    "    padding=\"same\",\n",
    "    activation=tf.nn.relu)\n",
    "\n",
    "conv12 = tf.layers.conv2d(\n",
    "    inputs=conv11,\n",
    "    filters=32,\n",
    "    kernel_size=[5, 5],\n",
    "    padding=\"same\",\n",
    "    activation=tf.nn.relu)\n",
    "\n",
    "# 폴링으로 사이즈가 줄어듦\n",
    "# Spectogram : 48 * 64 → 24 * 32\n",
    "pool1 = tf.layers.max_pooling2d(\n",
    "    inputs=conv12,\n",
    "    pool_size=[2, 2],\n",
    "    strides=2)\n",
    "\n",
    "conv21 = tf.layers.conv2d(\n",
    "    inputs=pool1,\n",
    "    filters=64,\n",
    "    kernel_size=[5, 5],\n",
    "    padding=\"same\",\n",
    "    activation=tf.nn.relu)\n",
    "\n",
    "conv22 = tf.layers.conv2d(\n",
    "    inputs=conv21,\n",
    "    filters=64,\n",
    "    kernel_size=[5, 5],\n",
    "    padding=\"same\",\n",
    "    activation=tf.nn.relu)\n",
    "\n",
    "# 폴링으로 사이즈가 줄어듦\n",
    "# Spectogram : 24 * 32 → 12 * 8\n",
    "pool2 = tf.layers.max_pooling2d(\n",
    "    inputs=conv22,\n",
    "    pool_size=[2, 2],\n",
    "    strides=2)"
   ]
  },
  {
   "cell_type": "code",
   "execution_count": 7,
   "metadata": {},
   "outputs": [
    {
     "name": "stdout",
     "output_type": "stream",
     "text": [
      "WARNING:tensorflow:From <ipython-input-7-e95f9a11f935>:7: dense (from tensorflow.python.layers.core) is deprecated and will be removed in a future version.\n",
      "Instructions for updating:\n",
      "Use keras.layers.dense instead.\n",
      "WARNING:tensorflow:From <ipython-input-7-e95f9a11f935>:8: dropout (from tensorflow.python.layers.core) is deprecated and will be removed in a future version.\n",
      "Instructions for updating:\n",
      "Use keras.layers.dropout instead.\n",
      "WARNING:tensorflow:From /usr/local/lib/python3.5/dist-packages/tensorflow/python/keras/layers/core.py:143: calling dropout (from tensorflow.python.ops.nn_ops) with keep_prob is deprecated and will be removed in a future version.\n",
      "Instructions for updating:\n",
      "Please use `rate` instead of `keep_prob`. Rate should be set to `rate = 1 - keep_prob`.\n"
     ]
    }
   ],
   "source": [
    "# --- 전 결합층 ---\n",
    "# 데이터 행렬 평탄화(flatten)\n",
    "# Spectogram : 12 * 16(이미지 사이즈)  * 64(합성곱 필터 수)\n",
    "input_cnt = 12 * 16 * 64\n",
    "pool_flat = tf.reshape(pool2, [-1, input_cnt])\n",
    "\n",
    "dense1 = tf.layers.dense(inputs=pool_flat, units=layer1_unit_count, activation=tf.nn.relu)\n",
    "dropout1 = tf.layers.dropout(inputs=dense1, rate=dropout_rate, training=use_dropout)\n",
    "\n",
    "dense2 = tf.layers.dense(inputs=dropout1, units=layer2_unit_count, activation=tf.nn.relu)\n",
    "dropout2 = tf.layers.dropout(inputs=dense2, rate=dropout_rate, training=use_dropout)\n",
    "\n",
    "dense3 = tf.layers.dense(inputs=dropout2, units=layer3_unit_count, activation=tf.nn.relu)\n",
    "dropout3 = tf.layers.dropout(inputs=dense3, rate=dropout_rate, training=use_dropout)\n",
    "\n",
    "netout = tf.layers.dense(inputs=dropout3, units=5)\n",
    "softout = tf.nn.softmax(netout, name=\"out\")"
   ]
  },
  {
   "cell_type": "code",
   "execution_count": 8,
   "metadata": {},
   "outputs": [
    {
     "name": "stdout",
     "output_type": "stream",
     "text": [
      "WARNING:tensorflow:From /usr/local/lib/python3.5/dist-packages/tensorflow/python/ops/math_ops.py:3066: to_int32 (from tensorflow.python.ops.math_ops) is deprecated and will be removed in a future version.\n",
      "Instructions for updating:\n",
      "Use tf.cast instead.\n"
     ]
    }
   ],
   "source": [
    "# --- loss 함수 정의 ---\n",
    "# 평균 제곱 오차 함수 사용\n",
    "y = tf.placeholder(tf.float32, [None, 5])\n",
    "loss = tf.reduce_mean(tf.reduce_sum(tf.square(softout - y), 1))\n",
    "loss_sum = tf.summary.scalar(\"loss\", loss)\n",
    "\n",
    "# --- loss 함수의 최적화 함수 정의 ---\n",
    "train = tf.train.AdamOptimizer(learning_rate).minimize(loss)"
   ]
  },
  {
   "cell_type": "code",
   "execution_count": null,
   "metadata": {},
   "outputs": [],
   "source": [
    "# --- 학습 수행 ---\n",
    "with tf.Session() as sess:\n",
    "    # tensorboard용 로딩 정의\n",
    "    merged_summary = tf.summary.merge_all()\n",
    "    writer = tf.summary.FileWriter(tblogdir)\n",
    "    writer.add_graph(sess.graph)\n",
    "    \n",
    "    # 신경망 가중치(weight) 초기화\n",
    "    sess.run(tf.global_variables_initializer())\n",
    "    \n",
    "    # 전체 데이터에 대해 5000번 수행\n",
    "    # loss가 0.001 이하일 때 학습 중단\n",
    "    start_time = time.time()\n",
    "    for epoch in range(epoch_count):\n",
    "        _train, _loss_summ, _loss = sess.run([train, loss_sum, loss], feed_dict={x:train_x, y:train_y, use_dropout:True})\n",
    "        writer.add_summary(summary = _loss_summ, global_step = epoch)\n",
    "        \n",
    "        if epoch % 100 == 0:\n",
    "            print(\"index = \", epoch, \"  loss = \", _loss)\n",
    "            \n",
    "        if _loss < loss_limit:\n",
    "            print(\"index = \", epoch, \"  loss = \", _loss)\n",
    "            break\n",
    "            \n",
    "    end_time = time.time()\n",
    "    print(\"running time : \", end_time - start_time)\n",
    "    \n",
    "    # --- 학습 모델 저장 ---\n",
    "    print(\"save model\")\n",
    "    builder = tf.saved_model.builder.SavedModelBuilder(modeldir)\n",
    "    signature = tf.saved_model.predict_signature_def(inputs={\"in\":x}, outputs={\"out\":softout})\n",
    "    builder.add_meta_graph_and_variables(sess, tags=[\"ver1\"], signature_def_map={\"escalator-vibration-analysis-v1\":signature})\n",
    "    builder.save()\n",
    "    print(\"complete\")"
   ]
  }
 ],
 "metadata": {
  "kernelspec": {
   "display_name": "Python 3",
   "language": "python",
   "name": "python3"
  },
  "language_info": {
   "codemirror_mode": {
    "name": "ipython",
    "version": 3
   },
   "file_extension": ".py",
   "mimetype": "text/x-python",
   "name": "python",
   "nbconvert_exporter": "python",
   "pygments_lexer": "ipython3",
   "version": "3.5.2"
  }
 },
 "nbformat": 4,
 "nbformat_minor": 2
}
