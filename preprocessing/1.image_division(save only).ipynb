{
 "cells": [
  {
   "cell_type": "code",
   "execution_count": 1,
   "metadata": {},
   "outputs": [],
   "source": [
    "import os\n",
    "import cv2\n",
    "import numpy as np\n",
    "import matplotlib.pyplot as plt\n",
    "\n",
    "from PIL import Image"
   ]
  },
  {
   "cell_type": "code",
   "execution_count": 2,
   "metadata": {},
   "outputs": [],
   "source": [
    "## --- 설정 변수 정의 ---\n",
    "## 이미지 경로 설정\n",
    "# 입력 이미지 경로 (directory) \n",
    "img_path_list = \"/src/data/DeepCrack/train/all_img\"\n",
    "# 저장 이미지 경로\n",
    "save_path = \"/src/hyebin/preprocessing/division_all_img/\"\n",
    "\n",
    "## 스텝 사이즈, 잘라낼 크기 설정\n",
    "# 가로축 이동 거리\n",
    "step_x = 20\n",
    "# 세로축 이동 거리\n",
    "step_y = 20\n",
    "# 가로 범위\n",
    "width = 50\n",
    "# 세로 범위\n",
    "height = 50"
   ]
  },
  {
   "cell_type": "code",
   "execution_count": 3,
   "metadata": {},
   "outputs": [],
   "source": [
    "## --- 이미지 분할 및 저장 함수 ---\n",
    "def division_image(img_file_name, pil_img, step_x, step_y, width, height):\n",
    "    \n",
    "    (img_w, img_h) = pil_img.size\n",
    "    #print('img_size : {}'.format(pil_img.size))\n",
    " \n",
    "    range_w = round(img_w/step_x)\n",
    "    range_h = round(img_h/step_y)\n",
    "    #print('range_w : {},  range_h : {}'.format(range_w, range_h))\n",
    "    \n",
    "    # 이미지 이름별로 폴더 만들고 저장하기\n",
    "    img_file_name = img_file_name.replace(\".jpg\", \"\").replace(\".png\", \"\")\n",
    "    if not os.path.exists(save_path + img_file_name):  os.mkdir(save_path + img_file_name)\n",
    "    \n",
    "    i = 0\n",
    "    division_list = []\n",
    "    fname_list = []\n",
    "    for h in range(range_h):  # height\n",
    "        for w in range(range_w):  # weight\n",
    "            # 가로 시작점(좌), 세로 시작점(상), 가로 범위(우), 세로 범위(하)\n",
    "            left = w*step_x\n",
    "            top = h*step_y\n",
    "            right = (w*step_x)+width\n",
    "            bottom = (h*step_y)+height\n",
    "            \n",
    "            # if left-right, top-bottom이 각각 img_w, img_h를 넘지 않을때만 crop을 실행한다\n",
    "            if (left and right < img_w) and (top and bottom < img_h):\n",
    "                bbox = (left, top, right, bottom)\n",
    "                #print(bbox)\n",
    "        \n",
    "                # crop\n",
    "                division_image = pil_img.crop(bbox)\n",
    " \n",
    "                # save \n",
    "                fname = \"{}.jpg\".format(\"{0:05d}\".format(i))\n",
    "                save_name = save_path + img_file_name + \"/\" + fname\n",
    "                #division_image.save(save_name)\n",
    "            \n",
    "                i += 1\n",
    "                division_list.append(division_image)\n",
    "                fname_list.append(fname)\n",
    "    \n",
    "    return division_list, w, h, fname_list"
   ]
  },
  {
   "cell_type": "code",
   "execution_count": 4,
   "metadata": {
    "scrolled": true
   },
   "outputs": [
    {
     "name": "stdout",
     "output_type": "stream",
     "text": [
      "(206208, 50, 50, 1)\n",
      "*** Saved ***\n"
     ]
    }
   ],
   "source": [
    "# jpg 또는 png 이미지 파일만 가져오기\n",
    "img_file_list = [img_file for img_file in os.listdir(img_path_list) if img_file.endswith('.jpg') or img_file.endswith('.png')]\n",
    "\n",
    "img_list = []\n",
    "\n",
    "for img_file_name in img_file_list:\n",
    "    img_path = \"/\".join([img_path_list, img_file_name])\n",
    "    pil_img = Image.open(img_path)\n",
    "    \n",
    "    division_list, range_w, range_h, fname_list = division_image(img_file_name, pil_img, step_x, step_y, width, height)\n",
    "\n",
    "    \n",
    "for img_file_name in img_file_list:\n",
    "    for fname in fname_list:\n",
    "    \n",
    "        ## image → list 전환\n",
    "        img_file_name = img_file_name.replace(\".jpg\", \"\").replace(\".png\", \"\")\n",
    "        img_path = save_path + img_file_name + \"/\" + fname\n",
    "        \n",
    "        org_img = cv2.imread(img_path, cv2.IMREAD_GRAYSCALE)\n",
    "        org_img = cv2.resize(org_img, (height,width), interpolation=cv2.INTER_CUBIC)\n",
    "    \n",
    "        # 0~1 사이의 값으로 변경하기 위해 '255'로 나눔\n",
    "        scaled_img = org_img / 255   \n",
    "        reshaped_img = scaled_img.reshape([height,width,1])\n",
    "    \n",
    "        img_list.append(reshaped_img)\n",
    "    \n",
    "## list → numpy 변환\n",
    "img_list = np.array(img_list)\n",
    "print(img_list.shape)\n",
    "    \n",
    "## npy 파일 저장\n",
    "np.save(\"/src/hyebin/preprocessing/npy/division_all_img_50\", img_list)\n",
    "\n",
    "print(\"*** Saved ***\")"
   ]
  }
 ],
 "metadata": {
  "kernelspec": {
   "display_name": "Python 3",
   "language": "python",
   "name": "python3"
  },
  "language_info": {
   "codemirror_mode": {
    "name": "ipython",
    "version": 3
   },
   "file_extension": ".py",
   "mimetype": "text/x-python",
   "name": "python",
   "nbconvert_exporter": "python",
   "pygments_lexer": "ipython3",
   "version": "3.6.9"
  }
 },
 "nbformat": 4,
 "nbformat_minor": 2
}
