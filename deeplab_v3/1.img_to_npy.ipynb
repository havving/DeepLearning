{
 "cells": [
  {
   "cell_type": "code",
   "execution_count": 1,
   "metadata": {},
   "outputs": [],
   "source": [
    "import numpy as np\n",
    "import cv2\n",
    "import os\n",
    "import re"
   ]
  },
  {
   "cell_type": "code",
   "execution_count": 2,
   "metadata": {},
   "outputs": [],
   "source": [
    "## 파일에서 이미지를 읽어와 배열로 전환하는 함수\n",
    "# 입력 : 이미지 파일 위치\n",
    "# 출력 : 이미지 배열\n",
    "def readImgToArray(img_path):\n",
    "    \n",
    "    # 파일 이미지를 읽어옴\n",
    "    org_img = cv2.imread(img_path, cv2.IMREAD_GRAYSCALE)\n",
    "    org_img = cv2.resize(org_img, (256,256), interpolation=cv2.INTER_CUBIC)\n",
    "    \n",
    "    # 0~1 사이의 값으로 변경하기 위해 '255'로 나눔\n",
    "    scaled_img = org_img / 255   \n",
    "    reshaped_img = scaled_img.reshape([64,64,1])\n",
    "    \n",
    "    return reshaped_img"
   ]
  },
  {
   "cell_type": "code",
   "execution_count": 3,
   "metadata": {},
   "outputs": [],
   "source": [
    "## 상수값 설정\n",
    "# 균열 이미지 root 위치\n",
    "img_path_list = \"/src/data/crack/DeepCrack/train/all_img\"\n",
    "# 라벨 이미지 root 위치\n",
    "lab_path_list = \"/src/data/crack/DeepCrack/train/all_label\""
   ]
  },
  {
   "cell_type": "code",
   "execution_count": 4,
   "metadata": {},
   "outputs": [
    {
     "name": "stdout",
     "output_type": "stream",
     "text": [
      "<class 'list'>\n"
     ]
    }
   ],
   "source": [
    "## 이미지/라벨 디렉토리에서 이미지를 읽어와 배열에 저장\n",
    "# 이미지 : jpg\n",
    "# 라벨 : png\n",
    "\n",
    "# 균열 이미지 디렉토리에서 jpg파일을 읽어옴\n",
    "img_file_list = [img_file for img_file in os.listdir(img_path_list)]\n",
    "print(type(img_file_list))\n",
    "#print(img_file_list)"
   ]
  },
  {
   "cell_type": "code",
   "execution_count": 5,
   "metadata": {},
   "outputs": [
    {
     "ename": "ValueError",
     "evalue": "cannot reshape array of size 65536 into shape (64,64,1)",
     "output_type": "error",
     "traceback": [
      "\u001b[0;31m---------------------------------------------------------------------------\u001b[0m",
      "\u001b[0;31mValueError\u001b[0m                                Traceback (most recent call last)",
      "\u001b[0;32m<ipython-input-5-dba643ba44ea>\u001b[0m in \u001b[0;36m<module>\u001b[0;34m\u001b[0m\n\u001b[1;32m     13\u001b[0m \u001b[0;34m\u001b[0m\u001b[0m\n\u001b[1;32m     14\u001b[0m     \u001b[0;31m# 균열, 라벨 이미지 파일 읽기\u001b[0m\u001b[0;34m\u001b[0m\u001b[0;34m\u001b[0m\u001b[0;34m\u001b[0m\u001b[0m\n\u001b[0;32m---> 15\u001b[0;31m     \u001b[0mimg_data\u001b[0m \u001b[0;34m=\u001b[0m \u001b[0mreadImgToArray\u001b[0m\u001b[0;34m(\u001b[0m\u001b[0mimg_path\u001b[0m\u001b[0;34m)\u001b[0m\u001b[0;34m\u001b[0m\u001b[0;34m\u001b[0m\u001b[0m\n\u001b[0m\u001b[1;32m     16\u001b[0m     \u001b[0;31m#print(img_data)\u001b[0m\u001b[0;34m\u001b[0m\u001b[0;34m\u001b[0m\u001b[0;34m\u001b[0m\u001b[0m\n\u001b[1;32m     17\u001b[0m     \u001b[0mlab_data\u001b[0m \u001b[0;34m=\u001b[0m \u001b[0mreadImgToArray\u001b[0m\u001b[0;34m(\u001b[0m\u001b[0mlab_path\u001b[0m\u001b[0;34m)\u001b[0m\u001b[0;34m\u001b[0m\u001b[0;34m\u001b[0m\u001b[0m\n",
      "\u001b[0;32m<ipython-input-2-166c39c031ce>\u001b[0m in \u001b[0;36mreadImgToArray\u001b[0;34m(img_path)\u001b[0m\n\u001b[1;32m     10\u001b[0m     \u001b[0;31m# 0~1 사이의 값으로 변경하기 위해 '255'로 나눔\u001b[0m\u001b[0;34m\u001b[0m\u001b[0;34m\u001b[0m\u001b[0;34m\u001b[0m\u001b[0m\n\u001b[1;32m     11\u001b[0m     \u001b[0mscaled_img\u001b[0m \u001b[0;34m=\u001b[0m \u001b[0morg_img\u001b[0m \u001b[0;34m/\u001b[0m \u001b[0;36m255\u001b[0m\u001b[0;34m\u001b[0m\u001b[0;34m\u001b[0m\u001b[0m\n\u001b[0;32m---> 12\u001b[0;31m     \u001b[0mreshaped_img\u001b[0m \u001b[0;34m=\u001b[0m \u001b[0mscaled_img\u001b[0m\u001b[0;34m.\u001b[0m\u001b[0mreshape\u001b[0m\u001b[0;34m(\u001b[0m\u001b[0;34m[\u001b[0m\u001b[0;36m64\u001b[0m\u001b[0;34m,\u001b[0m\u001b[0;36m64\u001b[0m\u001b[0;34m,\u001b[0m\u001b[0;36m1\u001b[0m\u001b[0;34m]\u001b[0m\u001b[0;34m)\u001b[0m\u001b[0;34m\u001b[0m\u001b[0;34m\u001b[0m\u001b[0m\n\u001b[0m\u001b[1;32m     13\u001b[0m \u001b[0;34m\u001b[0m\u001b[0m\n\u001b[1;32m     14\u001b[0m     \u001b[0;32mreturn\u001b[0m \u001b[0mreshaped_img\u001b[0m\u001b[0;34m\u001b[0m\u001b[0;34m\u001b[0m\u001b[0m\n",
      "\u001b[0;31mValueError\u001b[0m: cannot reshape array of size 65536 into shape (64,64,1)"
     ]
    }
   ],
   "source": [
    "# 균열 이미지와 라벨 이미지의 배열\n",
    "img_list = []\n",
    "lab_list = []\n",
    "\n",
    "for img_file in img_file_list[:6]:\n",
    "    \n",
    "    # img_file명에 따라 균열, 라벨 이미지 파일 절대경로 설정\n",
    "    # 라벨 이미지 파일은 .png 확장자이므로 균열 이미지의 .jpg 확장자를 .png로 변경\n",
    "    img_path = \"/\".join([img_path_list, img_file])\n",
    "    #print(img_path)\n",
    "    lab_path = re.sub(\".jpg$\", \".png\", \"/\".join([lab_path_list, img_file]))\n",
    "    #print(lab_path)\n",
    "    \n",
    "    # 균열, 라벨 이미지 파일 읽기\n",
    "    img_data = readImgToArray(img_path)\n",
    "    #print(img_data)\n",
    "    lab_data = readImgToArray(lab_path)\n",
    "    #print(lab_data)\n",
    "    \n",
    "    # 균열, 라벨 이미지 배열에 데이터 추가\n",
    "    img_list.append(img_data)\n",
    "    #pint(img_list)\n",
    "    lab_list.append(lab_data)\n",
    "    #rint(lab_list)    "
   ]
  },
  {
   "cell_type": "code",
   "execution_count": null,
   "metadata": {},
   "outputs": [],
   "source": [
    "## 배열 → numpy 변환\n",
    "img_list = np.array(img_list)\n",
    "lab_list = np.array(lab_list)\n",
    "\n",
    "print(img_list.shape)\n",
    "print(lab_list.shape)"
   ]
  },
  {
   "cell_type": "code",
   "execution_count": null,
   "metadata": {},
   "outputs": [],
   "source": [
    "## npy 파일 저장\n",
    "np.save(\"/src/hyebin/deeplab_v3/train_data_256_6\", img_list)\n",
    "np.save(\"/src/hyebin/deeplab_v3/train_label_256_6\", lab_list)"
   ]
  }
 ],
 "metadata": {
  "kernelspec": {
   "display_name": "Python 3",
   "language": "python",
   "name": "python3"
  },
  "language_info": {
   "codemirror_mode": {
    "name": "ipython",
    "version": 3
   },
   "file_extension": ".py",
   "mimetype": "text/x-python",
   "name": "python",
   "nbconvert_exporter": "python",
   "pygments_lexer": "ipython3",
   "version": "3.6.9"
  }
 },
 "nbformat": 4,
 "nbformat_minor": 2
}
