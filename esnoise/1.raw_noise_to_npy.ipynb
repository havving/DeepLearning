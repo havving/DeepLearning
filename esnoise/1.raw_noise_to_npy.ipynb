{
 "cells": [
  {
   "cell_type": "code",
   "execution_count": 1,
   "metadata": {},
   "outputs": [],
   "source": [
    "import numpy as np\n",
    "import matplotlib.pyplot as plt\n",
    "import cv2"
   ]
  },
  {
   "cell_type": "code",
   "execution_count": 2,
   "metadata": {},
   "outputs": [],
   "source": [
    "# --- 소음 파일에서 1000개 소음 묶음 배열을 랜덤하게 추출하는 함수 ---\n",
    "def get_sample_noise(noise_file_name):\n",
    "    \n",
    "    # 파일을 읽어 리스트로 만듦\n",
    "    lines = []\n",
    "    with open(noise_file_name, \"r\") as noise_file:\n",
    "        lines = noise_file.readlines()\n",
    "        \n",
    "    # 묶음의 시작 위치 목록을 만들기 위해\n",
    "    # 0 ~ 5,990,000 사이의 랜덤값 1000개를 뽑음\n",
    "    start_indices = []\n",
    "    for index in range(1000):\n",
    "        start_indices.append(np.random.randint(5990000) + 1) # 1은 파일의 앞쪽 데이터가 아닌 부분을 제거하기 위한 오프셋\n",
    "    \n",
    "    # 시작 위치 인덱스 부터 10000개씩 데이터 추출\n",
    "    bundle_list = []\n",
    "    for start_index in start_indices:\n",
    "        \n",
    "        # 묶음 추출\n",
    "        bundle = lines[start_index:start_index + 10000]\n",
    "        \n",
    "        bundle_data = []\n",
    "        for line in bundle:\n",
    "            bundle_data.append(float(line.split(',')[1]))\n",
    "        \n",
    "        # 묶음 목록에 묶음 추가\n",
    "        bundle_list.append(bundle_data)\n",
    "\n",
    "    return np.array(bundle_list)"
   ]
  },
  {
   "cell_type": "code",
   "execution_count": 11,
   "metadata": {
    "scrolled": true
   },
   "outputs": [
    {
     "name": "stdout",
     "output_type": "stream",
     "text": [
      "read complete.\n",
      "[[-0.00209064 -0.03064678 -0.05480037 ... -0.00486274 -0.04173169\n",
      "  -0.03050173]\n",
      " [-0.00826695 -0.01905409 -0.04026333 ... -0.05322804 -0.06513617\n",
      "  -0.0727988 ]\n",
      " [-0.02087455 -0.02551355 -0.04027436 ...  0.0550498   0.07049088\n",
      "  -0.0660893 ]\n",
      " ...\n",
      " [-0.12809345 -0.07785462 -0.0762891  ... -0.0554505  -0.04967323\n",
      "  -0.03789317]\n",
      " [ 0.01095668  0.02795509  0.05717123 ... -0.07358453 -0.08941303\n",
      "  -0.08826763]\n",
      " [ 0.06721143  0.00353413 -0.04803151 ...  0.12237532  0.09783739\n",
      "   0.10738394]]\n",
      "[0 0 0 0 0 0 0 0 0 0 0 0 0 0 0 0 0 0 0 0 0 0 0 0 0 0 0 0 0 0 0 0 0 0 0 0 0\n",
      " 0 0 0 0 0 0 0 0 0 0 0 0 0 0 0 0 0 0 0 0 0 0 0 0 0 0 0 0 0 0 0 0 0 0 0 0 0\n",
      " 0 0 0 0 0 0 0 0 0 0 0 0 0 0 0 0 0 0 0 0 0 0 0 0 0 0 0 0 0 0 0 0 0 0 0 0 0\n",
      " 0 0 0 0 0 0 0 0 0 0 0 0 0 0 0 0 0 0 0 0 0 0 0 0 0 0 0 0 0 0 0 0 0 0 0 0 0\n",
      " 0 0 0 0 0 0 0 0 0 0 0 0 0 0 0 0 0 0 0 0 0 0 0 0 0 0 0 0 0 0 0 0 0 0 0 0 0\n",
      " 0 0 0 0 0 0 0 0 0 0 0 0 0 0 0 0 0 0 0 0 0 0 0 0 0 0 0 0 0 0 0 0 0 0 0 0 0\n",
      " 0 0 0 0 0 0 0 0 0 0 0 0 0 0 0 0 0 0 0 0 0 0 0 0 0 0 0 0 0 0 0 0 0 0 0 0 0\n",
      " 0 0 0 0 0 0 0 0 0 0 0 0 0 0 0 0 0 0 0 0 0 0 0 0 0 0 0 0 0 0 0 0 0 0 0 0 0\n",
      " 0 0 0 0 0 0 0 0 0 0 0 0 0 0 0 0 0 0 0 0 0 0 0 0 0 0 0 0 0 0 0 0 0 0 0 0 0\n",
      " 0 0 0 0 0 0 0 0 0 0 0 0 0 0 0 0 0 0 0 0 0 0 0 0 0 0 0 0 0 0 0 0 0 0 0 0 0\n",
      " 0 0 0 0 0 0 0 0 0 0 0 0 0 0 0 0 0 0 0 0 0 0 0 0 0 0 0 0 0 0 0 0 0 0 0 0 0\n",
      " 0 0 0 0 0 0 0 0 0 0 0 0 0 0 0 0 0 0 0 0 0 0 0 0 0 0 0 0 0 0 0 0 0 0 0 0 0\n",
      " 0 0 0 0 0 0 0 0 0 0 0 0 0 0 0 0 0 0 0 0 0 0 0 0 0 0 0 0 0 0 0 0 0 0 0 0 0\n",
      " 0 0 0 0 0 0 0 0 0 0 0 0 0 0 0 0 0 0 0 0 0 0 0 0 0 0 0 0 0 0 0 0 0 0 0 0 0\n",
      " 0 0 0 0 0 0 0 0 0 0 0 0 0 0 0 0 0 0 0 0 0 0 0 0 0 0 0 0 0 0 0 0 0 0 0 0 0\n",
      " 0 0 0 0 0 0 0 0 0 0 0 0 0 0 0 0 0 0 0 0 0 0 0 0 0 0 0 0 0 0 0 0 0 0 0 0 0\n",
      " 0 0 0 0 0 0 0 0 0 0 0 0 0 0 0 0 0 0 0 0 0 0 0 0 0 0 0 0 0 0 0 0 0 0 0 0 0\n",
      " 0 0 0 0 0 0 0 0 0 0 0 0 0 0 0 0 0 0 0 0 0 0 0 0 0 0 0 0 0 0 0 0 0 0 0 0 0\n",
      " 0 0 0 0 0 0 0 0 0 0 0 0 0 0 0 0 0 0 0 0 0 0 0 0 0 0 0 0 0 0 0 0 0 0 0 0 0\n",
      " 0 0 0 0 0 0 0 0 0 0 0 0 0 0 0 0 0 0 0 0 0 0 0 0 0 0 0 0 0 0 0 0 0 0 0 0 0\n",
      " 0 0 0 0 0 0 0 0 0 0 0 0 0 0 0 0 0 0 0 0 0 0 0 0 0 0 0 0 0 0 0 0 0 0 0 0 0\n",
      " 0 0 0 0 0 0 0 0 0 0 0 0 0 0 0 0 0 0 0 0 0 0 0 0 0 0 0 0 0 0 0 0 0 0 0 0 0\n",
      " 0 0 0 0 0 0 0 0 0 0 0 0 0 0 0 0 0 0 0 0 0 0 0 0 0 0 0 0 0 0 0 0 0 0 0 0 0\n",
      " 0 0 0 0 0 0 0 0 0 0 0 0 0 0 0 0 0 0 0 0 0 0 0 0 0 0 0 0 0 0 0 0 0 0 0 0 0\n",
      " 0 0 0 0 0 0 0 0 0 0 0 0 0 0 0 0 0 0 0 0 0 0 0 0 0 0 0 0 0 0 0 0 0 0 0 0 0\n",
      " 0 0 0 0 0 0 0 0 0 0 0 0 0 0 0 0 0 0 0 0 0 0 0 0 0 0 0 0 0 0 0 0 0 0 0 0 0\n",
      " 0 0 0 0 0 0 0 0 0 0 0 0 0 0 0 0 0 0 0 0 0 0 0 0 0 0 0 0 0 0 0 0 0 0 0 0 0\n",
      " 0]\n"
     ]
    }
   ],
   "source": [
    "# --- 소음 파일 목록에서 각 고장 종류별로 1000개씩 데이터 추출 ---\n",
    "# 소음 원본 데이터 파일 리스트\n",
    "# noise_file_name_list = [\n",
    "# '/src/data/sepas/NoiseRawData_20000/0/r_10min.csv', '/src/data/sepas/NoiseRawData_20000/1/r_10min.csv', '/src/data/sepas/NoiseRawData_20000/2/r_10min.csv',\n",
    "# '/src/data/sepas/NoiseRawData_20000/3/r_10min.csv', '/src/data/sepas/NoiseRawData_20000/4/r_10min.csv', '/src/data/sepas/NoiseRawData_20000/5/r_10min.csv',\n",
    "# '/src/data/sepas/NoiseRawData_20000/6/r_10min.csv', '/src/data/sepas/NoiseRawData_20000/7/r_10min.csv', '/src/data/sepas/NoiseRawData_20000/8/r_10min.csv',\n",
    "# '/src/data/sepas/NoiseRawData_20000/9/r_10min.csv', '/src/data/sepas/NoiseRawData_20000/10/r_10min.csv', '/src/data/sepas/NoiseRawData_20000/11/r_10min.csv',\n",
    "# '/src/data/sepas/NoiseRawData_20000/12/r_10min.csv', '/src/data/sepas/NoiseRawData_20000/13/r_10min.csv', '/src/data/sepas/NoiseRawData_20000/14/r_10min.csv',\n",
    "# '/src/data/sepas/NoiseRawData_20000/15/r_10min.csv', '/src/data/sepas/NoiseRawData_20000/16/r_10min.csv','/src/data/sepas/NoiseRawData_20000/17/r_10min.csv'\n",
    "# ]\n",
    "\n",
    "noise_file_name_list = [\n",
    "'/src/data/sepas/NoiseRawData_20000/0/r_10min.csv'\n",
    "]\n",
    "\n",
    "# 파일에서 1000개의 묶음 가져와서\n",
    "# 추출된 묶음들을 합침\n",
    "noise_list = None\n",
    "noise_lable_list = None\n",
    "for file_index in range(len(noise_file_name_list)):\n",
    "    \n",
    "    noise_file_name = noise_file_name_list[file_index]\n",
    "    \n",
    "    #print(\"read file : %s\" %noise_file_name)\n",
    "    sample_noise_list = get_sample_noise(noise_file_name)\n",
    "    sample_noise_label_list = np.array([file_index for i in range(sample_noise_list.shape[0])])\n",
    "    \n",
    "    # 소음 묶음을 배열에 추가\n",
    "    if file_index == 0:\n",
    "        noise_list = sample_noise_list\n",
    "        noise_label_list = sample_noise_label_list\n",
    "    else:\n",
    "        noise_list = np.vstack([noise_list, sample_noise_list])\n",
    "        noise_label_list = np.hstack([noise_label_list, sample_noise_label_list])\n",
    "    \n",
    "    print(\"read complete.\")\n",
    "\n",
    "print(noise_list)\n",
    "print(noise_label_list)"
   ]
  },
  {
   "cell_type": "code",
   "execution_count": 4,
   "metadata": {},
   "outputs": [
    {
     "name": "stdout",
     "output_type": "stream",
     "text": [
      "[10530  8896 13020 ... 16490  3069 14193]\n",
      "[10  8 13 ... 16  3 14]\n"
     ]
    }
   ],
   "source": [
    "# --- 고장 종류별로 추출된 배열을 랜덤하게 재배열 ---\n",
    "# 랜덤하게 재배열함\n",
    "random_indices = np.arange(noise_list.shape[0])\n",
    "np.random.shuffle(random_indices)\n",
    "\n",
    "print(random_indices)\n",
    "\n",
    "noise_list = noise_list[random_indices]\n",
    "noise_label_list = noise_label_list[random_indices]\n",
    "\n",
    "print(noise_label_list)"
   ]
  },
  {
   "cell_type": "code",
   "execution_count": 5,
   "metadata": {},
   "outputs": [
    {
     "name": "stdout",
     "output_type": "stream",
     "text": [
      "save noise data : /src/hyebin/esnoise/noise_data\n",
      "save complete.\n",
      "save noise label data : /src/hyebin/esnoise/noise_label_data\n",
      "save complete.\n"
     ]
    }
   ],
   "source": [
    "# --- Numpy(.npy) 형태로 데이터 저장 ---\n",
    "# numpy 데이터 저장\n",
    "\n",
    "noise_file_name = \"/src/hyebin/esnoise/noise_data\"\n",
    "noise_label_file_name = \"/src/hyebin/esnoise/noise_label_data\"\n",
    "\n",
    "print(\"save noise data : %s\" %noise_file_name)\n",
    "np.save(noise_file_name, noise_list)\n",
    "print(\"save complete.\")\n",
    "\n",
    "print(\"save noise label data : %s\" %noise_label_file_name)\n",
    "np.save(noise_label_file_name, noise_label_list)\n",
    "print(\"save complete.\")"
   ]
  }
 ],
 "metadata": {
  "kernelspec": {
   "display_name": "Python 3",
   "language": "python",
   "name": "python3"
  },
  "language_info": {
   "codemirror_mode": {
    "name": "ipython",
    "version": 3
   },
   "file_extension": ".py",
   "mimetype": "text/x-python",
   "name": "python",
   "nbconvert_exporter": "python",
   "pygments_lexer": "ipython3",
   "version": "3.6.8"
  }
 },
 "nbformat": 4,
 "nbformat_minor": 2
}
