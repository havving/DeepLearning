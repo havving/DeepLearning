{
 "cells": [
  {
   "cell_type": "code",
   "execution_count": 1,
   "metadata": {},
   "outputs": [],
   "source": [
    "# Elastic Search에 소음 데이터 10000 * 60 건(1분 데이터)를 저장하는 프로그램 개발\n",
    "#  → 10분 데이터중 임의의 위치에서 10000 * 60 건(1분 데이터)를 발췌하여 저장\n",
    "#     소음값 사이에 스페이스(' ') 하나의 스트링으로 만들어 저장\n",
    "#  → requests 패키지 활용(/jmsohn/esvib/get_esvib_data.ipynb 참조)\n",
    "  \n",
    "# 입력값: 소음 데이터 파일명\n",
    "# 수행후 결과: \n",
    "#  - ElasticSearch 인덱스에 1분 소음 데이터 저장됨\n",
    "#    인덱스명 : es-raw (기 생성되어 있음, 없을경우, 손팀장에게 생성 요청)\n",
    "#    Doc Id: '0' 으로 고정\n",
    "#   인덱스의 맵핑을 확인하여, 데이터 저장할 것"
   ]
  },
  {
   "cell_type": "code",
   "execution_count": 2,
   "metadata": {},
   "outputs": [],
   "source": [
    "# 1. 소음데이터 txt 파일 읽기\n",
    "# 2. 랜덤한 위치에서 10000 * 60건 읽기 \n",
    "# 3. 소음데이터 사이에 개행문자를 제거하기\n",
    "# 4. index열 제거하기\n",
    "# 5. 'es-raw' 인덱스에 스페이스(' ')를 넣어 하나의 String으로 저장하기 "
   ]
  },
  {
   "cell_type": "code",
   "execution_count": 3,
   "metadata": {},
   "outputs": [],
   "source": [
    "import numpy as np\n",
    "\n",
    "import requests\n",
    "import json"
   ]
  },
  {
   "cell_type": "code",
   "execution_count": 4,
   "metadata": {},
   "outputs": [],
   "source": [
    "def get_sample_noise(noise_file_name):\n",
    "    \n",
    "    # 1. 소음데이터 txt 파일 읽기\n",
    "    # 파일을 읽어 리스트로 만듦\n",
    "    lines = []\n",
    "    with open(noise_file_name, \"r\") as noise_file:\n",
    "        lines = noise_file.readlines()\n",
    "    \n",
    "    # 2. 랜덤한 위치에서 10000 * 60건 읽기   \n",
    "    start_indices = []\n",
    "    start_indices.append(np.random.randint(5400000) + 1) # 1은 파일의 앞쪽, 데이터가 아닌 부분을 제거하기 위한 오프셋\n",
    "    \n",
    "    # 시작 위치 인덱스 부터 600000개 데이터 추출\n",
    "    for start_index in start_indices:\n",
    "        \n",
    "        bundle = lines[start_index:start_index + 600000]     \n",
    "        \n",
    "        bundle_data = []\n",
    "        for line in bundle:\n",
    "            # 3. 소음데이터 사이에 개행문자를 제거하기\n",
    "            stripped = line.rstrip()\n",
    "            # 4. index열 제거하기\n",
    "            bundle_data.append(stripped.split(',')[1])\n",
    "           \n",
    "    return bundle_data\n"
   ]
  },
  {
   "cell_type": "code",
   "execution_count": 5,
   "metadata": {},
   "outputs": [
    {
     "name": "stdout",
     "output_type": "stream",
     "text": [
      "read file: /src/data/NoiseRawData_10000/0/r_10min.txt\n",
      "read complete.\n"
     ]
    }
   ],
   "source": [
    "# 소음데이터 파일\n",
    "noise_txt_file = '/src/data/NoiseRawData_10000/0/r_10min.txt'\n",
    "\n",
    "noise_list = []\n",
    "    \n",
    "print(\"read file: %s\" %noise_txt_file)\n",
    "sample_noise_list = get_sample_noise(noise_txt_file)\n",
    "noise_list = sample_noise_list\n",
    "print(\"read complete.\")\n"
   ]
  },
  {
   "cell_type": "code",
   "execution_count": 6,
   "metadata": {},
   "outputs": [],
   "source": [
    "# test\n",
    "#file = open('/src/hyebin/esnoise/r_10min.txt', 'w')\n",
    "#file.write(' '.join(noise_list)) \n",
    "#file.close()\n",
    "    \n",
    "#print(\"save complete.\")"
   ]
  },
  {
   "cell_type": "code",
   "execution_count": 7,
   "metadata": {},
   "outputs": [
    {
     "name": "stdout",
     "output_type": "stream",
     "text": [
      "<Response [200]>\n"
     ]
    }
   ],
   "source": [
    "# 5.'es-raw' 인덱스에 스페이스(' ')를 넣어 하나의 String으로 저장하기\n",
    "string_data = ' '.join(noise_list)\n",
    "\n",
    "headers = {'Content-Type': 'application/json; charset=utf-8'}\n",
    "\n",
    "doc = {\n",
    "        'type': 'text',\n",
    "        'index': 'false',\n",
    "        'text': string_data\n",
    "}\n",
    "\n",
    "response = requests.put(url = \"http://192.168.10.204:9200/es-raw/_doc/0\",\n",
    "                        headers = headers,\n",
    "                        data = json.dumps(doc))\n",
    "\n",
    "print(response)\n"
   ]
  }
 ],
 "metadata": {
  "kernelspec": {
   "display_name": "Python 3",
   "language": "python",
   "name": "python3"
  },
  "language_info": {
   "codemirror_mode": {
    "name": "ipython",
    "version": 3
   },
   "file_extension": ".py",
   "mimetype": "text/x-python",
   "name": "python",
   "nbconvert_exporter": "python",
   "pygments_lexer": "ipython3",
   "version": "3.5.2"
  }
 },
 "nbformat": 4,
 "nbformat_minor": 2
}
