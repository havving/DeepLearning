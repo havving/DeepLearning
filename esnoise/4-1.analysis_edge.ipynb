{
 "cells": [
  {
   "cell_type": "code",
   "execution_count": 1,
   "metadata": {},
   "outputs": [],
   "source": [
    "# -*- config : utf-8 -*-\n",
    "import numpy as np\n",
    "import sys\n",
    "import time as ti\n",
    "import warnings\n",
    "from tensorflow.lite.python.interpreter import Interpreter\n",
    "\n",
    "# 경고 메시지 무시\n",
    "warnings.filterwarnings(action='ignore')"
   ]
  },
  {
   "cell_type": "code",
   "execution_count": 2,
   "metadata": {},
   "outputs": [],
   "source": [
    "# --- 분석 수행 및 결과 저장 클래스 선언 ---\n",
    "class EsNoiseAnalyzer:\n",
    "    \n",
    "    def __init__(self, model_path):\n",
    "        self.model_path = model_path\n",
    "        self.elapsed_time = 0\n",
    "        self.predict_list = []\n",
    "        \n",
    "    def analysis(self, input_list):\n",
    "        print(\"START : \" + self.model_path)\n",
    "            \n",
    "        # 모델 로딩\n",
    "        model_content = None\n",
    "        with open(self.model_path, 'rb') as f:\n",
    "            model_content = f.read()\n",
    "            \n",
    "        model_content = bytes(model_content)\n",
    "            \n",
    "        interpreter = Interpreter(model_content = model_content)\n",
    "        interpreter.allocate_tensors()\n",
    "            \n",
    "        input_details = interpreter.get_input_details()\n",
    "        input_index = input_details[0]['index']\n",
    "        input_scale, input_zero_point = input_details[0]['quantization']\n",
    "            \n",
    "        print(input_scale, input_zero_point)\n",
    "            \n",
    "        output_details = interpreter.get_output_details()\n",
    "        output_index = output_details[0]['index']\n",
    "        output_scale, output_zero_point = output_details[0]['quantization']\n",
    "            \n",
    "        input_quantized_list = np.array((input_list / input_scale) + input_zero_point, dtype=np.uint8)\n",
    "        print(input_quantized_list.shape)\n",
    "            \n",
    "        for input_data in input_quantized_list:\n",
    "            interpreter.set_tensor(input_index, [input_data])\n",
    "            interpreter.invoke()\n",
    "                \n",
    "            output_quantized_data = interpreter.get_tensor(output_index)[0]\n",
    "            self.predict_list.append(np.argmax(output_quantized_data))\n",
    "                           \n",
    "        print(\"END : \" + self.model_path)\n",
    "            "
   ]
  },
  {
   "cell_type": "code",
   "execution_count": 3,
   "metadata": {},
   "outputs": [
    {
     "name": "stdout",
     "output_type": "stream",
     "text": [
      "load noise data :  /src/hyebin/esnoise/noise_spec_data.npy\n",
      "load complete\n",
      "load noise label data :  /src/hyebin/esnoise/noise_label_data.npy\n",
      "load complete\n"
     ]
    }
   ],
   "source": [
    "# --- 분석할 데이터 로딩 ---\n",
    "# 데이터 구조\n",
    "# noise_list : 학습용 데이터(이미지 개수, 48, 64, 3)\n",
    "# noise_label_list : 학습용 라벨 데이터(이미지 개수, 18)\n",
    "\n",
    "# 학습 데이터 파일명\n",
    "noise_list_file = \"/src/hyebin/esnoise/noise_spec_data.npy\"\n",
    "# 라벨 데이터 파일명\n",
    "noise_label_list_file = \"/src/hyebin/esnoise/noise_label_data.npy\"\n",
    "\n",
    "print(\"load noise data : \", noise_list_file)\n",
    "noise_list = np.load(noise_list_file, allow_pickle=True)\n",
    "print(\"load complete\")\n",
    "\n",
    "print(\"load noise label data : \", noise_label_list_file)\n",
    "noise_label_list = np.load(noise_label_list_file, allow_pickle=True)\n",
    "print(\"load complete\")"
   ]
  },
  {
   "cell_type": "code",
   "execution_count": 4,
   "metadata": {},
   "outputs": [],
   "source": [
    "# --- 분석 데이터에서 분석 수행용 데이터 일부 추출 ---\n",
    "# 분석 데이터 설정\n",
    "# 분석 데이터 중 최초 데이터 위치\n",
    "base_index = 0\n",
    "# 분석할 데이터의 개수\n",
    "analysis_count = 100\n",
    "\n",
    "# 분석용 데이터와 라벨\n",
    "analysis_x = noise_list[base_index:base_index + analysis_count]\n",
    "analysis_y = noise_label_list[base_index:base_index + analysis_count]"
   ]
  },
  {
   "cell_type": "code",
   "execution_count": 5,
   "metadata": {},
   "outputs": [
    {
     "name": "stdout",
     "output_type": "stream",
     "text": [
      "START : /src/hyebin/model/NOISE-EDGE-SPEC-02.tflite\n",
      "0.007874015718698502 128\n",
      "(100, 48, 64, 3)\n",
      "END : /src/hyebin/model/NOISE-EDGE-SPEC-02.tflite\n"
     ]
    }
   ],
   "source": [
    "# --- 분석 모델 로딩 및 분석 수행 ---\n",
    "# 소음 분석 모델 디렉토리명\n",
    "modeldir = \"/src/hyebin/model/NOISE-EDGE-SPEC-02.tflite\"\n",
    "\n",
    "analyzer = EsNoiseAnalyzer(modeldir)\n",
    "analyzer.analysis(analysis_x)"
   ]
  },
  {
   "cell_type": "code",
   "execution_count": 6,
   "metadata": {},
   "outputs": [
    {
     "name": "stdout",
     "output_type": "stream",
     "text": [
      "=======================================\n",
      "index\tpredict\tlabel\tcorrect\n",
      "---------------------------------------\n",
      "9\t13\t5\tX\n",
      "13\t2\t1\tX\n",
      "23\t16\t14\tX\n",
      "30\t13\t5\tX\n",
      "41\t12\t7\tX\n",
      "52\t6\t4\tX\n",
      "62\t13\t16\tX\n",
      "=====================================\n",
      "running time: 0\n",
      "correct count: 93 \tcorrect percent: 93.0 %\n",
      "incorrect count: 7\n"
     ]
    }
   ],
   "source": [
    "# --- 분석 결과 출력 ---\n",
    "# 정답 갯수\n",
    "correct_count = 0\n",
    "# 오답 갯수\n",
    "incorrect_count = 0\n",
    "\n",
    "print(\"=======================================\")\n",
    "print(\"index\\tpredict\\tlabel\\tcorrect\")\n",
    "print(\"---------------------------------------\")\n",
    "\n",
    "for index in range(analysis_count):\n",
    "    # 예측값 \n",
    "    predict = analyzer.predict_list[index]\n",
    "    # 실제값\n",
    "    label = analysis_y[index]\n",
    "    \n",
    "    result = \"0\"\n",
    "    \n",
    "    # 정답일 경우, 정답 카운트 1 증가\n",
    "    # 오답일 경우, 오답 카운트 1 증가 및 출력시 오른쪽에 X 표시\n",
    "    if predict == label:\n",
    "        correct_count = correct_count + 1\n",
    "    else:\n",
    "        incorrect_count = incorrect_count + 1\n",
    "        result = \"X\"\n",
    "        message = \"%d\\t%s\\t%s\\t%s\" %(base_index + index, predict, label, result)\n",
    "\n",
    "        # 현재 이미지 분석 결과 출력 - 틀린것만\n",
    "        print(message)\n",
    "\n",
    "# 최종 결과 출력\n",
    "print(\"=====================================\")\n",
    "print(\"running time:\", analyzer.elapsed_time)\n",
    "print(\"correct count:\", correct_count, \"\\tcorrect percent:\", (correct_count/analysis_count) * 100, \"%\")\n",
    "print(\"incorrect count:\", incorrect_count)"
   ]
  }
 ],
 "metadata": {
  "kernelspec": {
   "display_name": "Python 3",
   "language": "python",
   "name": "python3"
  },
  "language_info": {
   "codemirror_mode": {
    "name": "ipython",
    "version": 3
   },
   "file_extension": ".py",
   "mimetype": "text/x-python",
   "name": "python",
   "nbconvert_exporter": "python",
   "pygments_lexer": "ipython3",
   "version": "3.6.8"
  }
 },
 "nbformat": 4,
 "nbformat_minor": 2
}
