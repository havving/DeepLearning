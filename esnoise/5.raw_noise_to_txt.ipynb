{
 "cells": [
  {
   "cell_type": "code",
   "execution_count": 1,
   "metadata": {},
   "outputs": [],
   "source": [
    "# /src/data/NoiseRawData_20000 \n",
    "# 이하의 고장 종류별 데이터 파일를 읽어서,\n",
    "# 짝수 행의 데이터만 추출해서 고장 종류별 디렉토리에 .txt 파일로 저장하도록 함\n",
    "\n",
    "# 목적 : 20000Hz -> 10000Hz 로 변경하여 분석 수행\n",
    "\n",
    "# 데이터는 (index,data) 형식으로 되어있고 index는 사용하지 않음\n",
    "# 그리고 다운샘플링 하는 과정에서 첫번째 열에 필요없는 값(0)이 들어가서 첫번째 열은 지우고 사용"
   ]
  },
  {
   "cell_type": "code",
   "execution_count": 2,
   "metadata": {},
   "outputs": [],
   "source": [
    "# 순서\n",
    "# 0. 하나의 소음 파일에서 짝수행 소음 묶음 배열을 추출하는 함수\n",
    "# 1. 고장 종류별 데이터 파일 읽기\n",
    "# 2. 각 디렉토리에 txt파일로 저장하기"
   ]
  },
  {
   "cell_type": "code",
   "execution_count": 3,
   "metadata": {},
   "outputs": [],
   "source": [
    "# 0. 하나의 소음 파일에서 짝수행 소음 묶음 배열을 추출하는 함수\n",
    "def get_sample_noise(noise_file_name):\n",
    "    \n",
    "    # 파일을 읽어 리스트로 만듦\n",
    "    lines = []\n",
    "    with open(noise_file_name, \"r\") as noise_file:\n",
    "        lines = noise_file.readlines()\n",
    "                \n",
    "    # 짝수행 추출\n",
    "    list_data = list(lines)\n",
    "    even_list = list_data[1::2]\n",
    "\n",
    "    # 첫번째 열 삭제\n",
    "#    split_data = []\n",
    "#    for line in even_list:\n",
    "#        split_data.append(line.split(',')[1])\n",
    "           \n",
    "    return even_list\n"
   ]
  },
  {
   "cell_type": "code",
   "execution_count": 4,
   "metadata": {},
   "outputs": [
    {
     "name": "stdout",
     "output_type": "stream",
     "text": [
      "read file: /src/data/NoiseRawData_20000/0/r_10min.csv\n",
      "read complete.\n",
      "save complete.\n"
     ]
    }
   ],
   "source": [
    "# 1. 고장 종류별 데이터 파일 읽기\n",
    "noise_raw_data_file_list = [\n",
    "    '/src/data/NoiseRawData_20000/0/r_10min.csv', '/src/data/NoiseRawData_20000/1/r_10min.csv', '/src/data/NoiseRawData_20000/2/r_10min.csv',\n",
    "    '/src/data/NoiseRawData_20000/3/r_10min.csv', '/src/data/NoiseRawData_20000/4/r_10min.csv', '/src/data/NoiseRawData_20000/5/r_10min.csv',\n",
    "    '/src/data/NoiseRawData_20000/6/r_10min.csv', '/src/data/NoiseRawData_20000/7/r_10min.csv', '/src/data/NoiseRawData_20000/8/r_10min.csv',\n",
    "    '/src/data/NoiseRawData_20000/9/r_10min.csv', '/src/data/NoiseRawData_20000/10/r_10min.csv', '/src/data/NoiseRawData_20000/11/r_10min.csv',\n",
    "    '/src/data/NoiseRawData_20000/12/r_10min.csv', '/src/data/NoiseRawData_20000/13/r_10min.csv', '/src/data/NoiseRawData_20000/14/r_10min.csv',\n",
    "    '/src/data/NoiseRawData_20000/15/r_10min.csv', '/src/data/NoiseRawData_20000/16/r_10min.csv','/src/data/NoiseRawData_20000/17/r_10min.csv'\n",
    "]\n",
    "\n",
    "noise_list = []\n",
    "for file_index in range(len(noise_raw_data_file_list)):\n",
    "    \n",
    "    noise_file_name = noise_raw_data_file_list[file_index]\n",
    "    \n",
    "    print(\"read file: %s\" %noise_file_name)\n",
    "    sample_noise_list = get_sample_noise(noise_file_name)\n",
    "    noise_list = sample_noise_list\n",
    "    print(\"read complete.\")\n",
    "    \n",
    "    # 2. 각 디렉토리에 txt파일로 저장하기\n",
    "    file = open('/src/data/NoiseRawData_20000/' + str(file_index) + '/r_10min.txt', 'w')\n",
    "    file.write(''.join(noise_list))  \n",
    "    file.close()\n",
    "    \n",
    "    print(\"save complete.\")\n"
   ]
  }
 ],
 "metadata": {
  "kernelspec": {
   "display_name": "Python 3",
   "language": "python",
   "name": "python3"
  },
  "language_info": {
   "codemirror_mode": {
    "name": "ipython",
    "version": 3
   },
   "file_extension": ".py",
   "mimetype": "text/x-python",
   "name": "python",
   "nbconvert_exporter": "python",
   "pygments_lexer": "ipython3",
   "version": "3.5.2"
  }
 },
 "nbformat": 4,
 "nbformat_minor": 2
}
