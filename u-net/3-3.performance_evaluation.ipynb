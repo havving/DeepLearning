{
 "cells": [
  {
   "cell_type": "code",
   "execution_count": 1,
   "metadata": {},
   "outputs": [
    {
     "name": "stdout",
     "output_type": "stream",
     "text": [
      "WARNING:tensorflow:From /usr/local/lib/python3.6/dist-packages/tensorflow_core/python/compat/v2_compat.py:88: disable_resource_variables (from tensorflow.python.ops.variable_scope) is deprecated and will be removed in a future version.\n",
      "Instructions for updating:\n",
      "non-resource variables are not supported in the long term\n"
     ]
    }
   ],
   "source": [
    "import os\n",
    "import sys\n",
    "import time\n",
    "import warnings\n",
    "import numpy as np\n",
    "import tensorflow.compat.v1 as tf\n",
    "tf.disable_v2_behavior()\n",
    "import matplotlib.pyplot as plt\n",
    "from sklearn.metrics import precision_recall_curve\n",
    "\n",
    "# 경고 메시지 무시\n",
    "warnings.filterwarnings(action='ignore')"
   ]
  },
  {
   "cell_type": "markdown",
   "metadata": {},
   "source": [
    "# 분석 수행 및 결과 저장 클래스 선언"
   ]
  },
  {
   "cell_type": "code",
   "execution_count": 2,
   "metadata": {},
   "outputs": [],
   "source": [
    "class CrackAnalyzer:\n",
    "    \n",
    "    def __init__(self, modeldir):\n",
    "        self.modeldir = modeldir\n",
    "        self.elapsed_time = 0\n",
    "        self.predict_list = []\n",
    "        \n",
    "    def analysis(self, input_list):\n",
    "        \n",
    "        with tf.Session() as sess:\n",
    "            print(\"START : \" + self.modeldir)\n",
    "            \n",
    "            # 모델 로딩\n",
    "            tf.saved_model.loader.load(sess, [\"serve\"], self.modeldir)\n",
    "            \n",
    "            graph = tf.get_default_graph()\n",
    "            \n",
    "            x = graph.get_tensor_by_name(\"in:0\")\n",
    "            out = graph.get_tensor_by_name(\"pred:0\")\n",
    "\n",
    "            print('input_list : {}'.format(input_list.shape))\n",
    "            print('out : {}'.format(out))\n",
    "            \n",
    "            # 모델 분석 수행\n",
    "            start_time = time.time()\n",
    "            _out = sess.run(out, feed_dict={x:input_list})\n",
    "            end_time = time.time()\n",
    "            \n",
    "            self.elapsed_time = end_time - start_time            \n",
    "            self.predict_list = _out\n",
    "                \n",
    "            print(\"END : \" + self.modeldir)\n",
    "            \n",
    "            return self.predict_list"
   ]
  },
  {
   "cell_type": "markdown",
   "metadata": {},
   "source": [
    "# 분석할 데이터 로딩"
   ]
  },
  {
   "cell_type": "code",
   "execution_count": 3,
   "metadata": {},
   "outputs": [
    {
     "name": "stdout",
     "output_type": "stream",
     "text": [
      "load train data:  /src/data/crack/Cracks/resize/imgs_crack_test.npy\n",
      "load complete\n",
      "load train label data:  /src/data/crack/Cracks/resize/labels_crack_test.npy\n",
      "load complete\n",
      "(1250, 512, 512, 1)\n",
      "(1250, 512, 512, 1)\n"
     ]
    }
   ],
   "source": [
    "# 학습 데이터 파일명\n",
    "train_list_file = \"/src/data/crack/Cracks/resize/imgs_crack_test.npy\"\n",
    "# 라벨 데이터 파일명\n",
    "label_list_file = \"/src/data/crack/Cracks/resize/labels_crack_test.npy\"\n",
    "\n",
    "print(\"load train data: \", train_list_file) \n",
    "train_list = np.load(train_list_file, allow_pickle=True)\n",
    "print(\"load complete\")\n",
    "\n",
    "print(\"load train label data: \", label_list_file)\n",
    "label_list = np.load(label_list_file, allow_pickle=True)\n",
    "print(\"load complete\")\n",
    "\n",
    "print(train_list.shape)\n",
    "print(label_list.shape)"
   ]
  },
  {
   "cell_type": "markdown",
   "metadata": {},
   "source": [
    "# 분석 데이터에서 분석 수행용 데이터 일부 추출"
   ]
  },
  {
   "cell_type": "code",
   "execution_count": 4,
   "metadata": {},
   "outputs": [
    {
     "name": "stdout",
     "output_type": "stream",
     "text": [
      "analysis_x : (100, 512, 512, 1)\n"
     ]
    }
   ],
   "source": [
    "# 분석할 데이터 개수\n",
    "analysis_count = 100\n",
    "# 분석 데이터 중 최초 데이터 위치 \n",
    "#base_index = np.random.randint(label_list.shape[0] - analysis_count)\n",
    "base_index = 0\n",
    "\n",
    "# 분석용 데이터와 라벨\n",
    "analysis_x = train_list[base_index:base_index + analysis_count]\n",
    "analysis_y = label_list[base_index:base_index + analysis_count]\n",
    "print('analysis_x : {}'.format(analysis_x.shape))"
   ]
  },
  {
   "cell_type": "markdown",
   "metadata": {},
   "source": [
    "# 분석 모델 로딩 및 분석 수행"
   ]
  },
  {
   "cell_type": "code",
   "execution_count": 5,
   "metadata": {},
   "outputs": [
    {
     "name": "stdout",
     "output_type": "stream",
     "text": [
      "START : /src/temp/model/UNET/CRACK-UNET-105\n",
      "WARNING:tensorflow:From <ipython-input-2-469b10437115>:14: load (from tensorflow.python.saved_model.loader_impl) is deprecated and will be removed in a future version.\n",
      "Instructions for updating:\n",
      "This function will only be available through the v1 compatibility library as tf.compat.v1.saved_model.loader.load or tf.compat.v1.saved_model.load. There will be a new function for importing SavedModels in Tensorflow 2.0.\n",
      "INFO:tensorflow:Restoring parameters from /src/temp/model/UNET/CRACK-UNET-105/variables/variables\n",
      "input_list : (100, 512, 512, 1)\n",
      "out : Tensor(\"pred:0\", shape=(?, 512, 512, 1), dtype=float32)\n",
      "END : /src/temp/model/UNET/CRACK-UNET-105\n",
      "(100, 512, 512, 1)\n"
     ]
    }
   ],
   "source": [
    "# 분석 모델 디렉토리명\n",
    "modeldir = \"/src/temp/model/UNET/CRACK-UNET-105\"\n",
    "\n",
    "analyzer = CrackAnalyzer(modeldir)\n",
    "predict_list = analyzer.analysis(analysis_x)\n",
    "print(predict_list.shape)"
   ]
  },
  {
   "cell_type": "code",
   "execution_count": 6,
   "metadata": {},
   "outputs": [],
   "source": [
    "pred_list = []\n",
    "label_list = []\n",
    "\n",
    "for i in range(analysis_count):\n",
    "    # 예측값 \n",
    "    pred = analyzer.predict_list[i]\n",
    " \n",
    "    # 라벨값\n",
    "    label = analysis_y[i]\n",
    "    \n",
    "    pred_list.append(pred)\n",
    "    label_list.append(label)"
   ]
  },
  {
   "cell_type": "markdown",
   "metadata": {},
   "source": [
    "# 분류성능평가지표 함수"
   ]
  },
  {
   "cell_type": "code",
   "execution_count": 7,
   "metadata": {},
   "outputs": [],
   "source": [
    "def perf_measure(threshold, label, pred):\n",
    "    \n",
    "    # 예측값 이진화 \n",
    "    _pred = np.where(pred < threshold, 0, 1)\n",
    "    \n",
    "    TP = 0\n",
    "    FP = 0\n",
    "    TN = 0\n",
    "    FN = 0\n",
    "\n",
    "    for i in range(len(_pred)):\n",
    "        \n",
    "        if label[i]==_pred[i]==1:\n",
    "            TP += 1\n",
    "        if _pred[i]==1 and label[i]==0:\n",
    "            FP += 1\n",
    "        if label[i]==_pred[i]==0:\n",
    "            TN += 1\n",
    "        if _pred[i]==0 and label[i]==1:\n",
    "            FN += 1\n",
    "        \n",
    "    # 1. 정밀도(Precision) - 예측한 것 중 정답의 비율 \n",
    "    precision = TP/(TP+FP)\n",
    "    \n",
    "    # 2. 재현율(Recall) - 실제 정답의 비율\n",
    "    recall = TP/(TP+FN)\n",
    "    \n",
    "    # 3. 정확도(Accuracy)\n",
    "    accuracy = (TP+TN)/(TP+FP+FN+TN)\n",
    "    \n",
    "    # 4. 정밀도와 재현율의 조화평균 (모델 성능 측정)\n",
    "    f1_score = 2 * (precision*recall)/(precision+recall)\n",
    "    \n",
    "    print('\\nTP:', TP)\n",
    "    print('FP:', FP)\n",
    "    print('TN:', TN)\n",
    "    print('FN:', FN)\n",
    "    print('f1_score:', f1_score)\n",
    "    \n",
    "    return precision, recall, accuracy"
   ]
  },
  {
   "cell_type": "markdown",
   "metadata": {},
   "source": [
    "# 실행"
   ]
  },
  {
   "cell_type": "code",
   "execution_count": null,
   "metadata": {
    "scrolled": false
   },
   "outputs": [
    {
     "name": "stdout",
     "output_type": "stream",
     "text": [
      "label:  (100, 512, 512, 1)\n",
      "pred:  (100, 512, 512, 1)\n",
      "label:  (26214400,)\n",
      "pred:  (26214400,)\n"
     ]
    }
   ],
   "source": [
    "if __name__ == '__main__':\n",
    "\n",
    "    threshold = 0.9\n",
    "\n",
    "    label = np.array(label_list)\n",
    "    print('label: ', label.shape)\n",
    "    pred = np.array(pred_list)\n",
    "    print('pred: ', pred.shape)\n",
    "\n",
    "    label = np.squeeze(label, axis=3)\n",
    "    _label = label.reshape(-1)  # np.reshape(-1) : 1차원 배열 반환\n",
    "    print('label: ', _label.shape)\n",
    "\n",
    "    pred = np.squeeze(pred, axis=3)\n",
    "    _pred = pred.reshape(-1)\n",
    "    print('pred: ', _pred.shape)\n",
    "    \n",
    "    precision, recall, accuracy = perf_measure(threshold, _label, _pred)\n",
    "    print('\\n================RESULT================')\n",
    "    print('precision: %f'%precision)\n",
    "    print('recall: %f'%recall)\n",
    "    print('accuracy: %f'%accuracy)\n",
    "\n",
    "#     precisions, recalls, thresholds = precision_recall_curve(_label, _pred)\n",
    "    \n",
    "#     plt.plot(thresholds, precisions[:-1], \"b--\",label=\"Precision\")\n",
    "#     plt.plot(thresholds, recalls[:-1], \"g-\", label=\"Recall\")\n",
    "#     plt.xlabel(\"Threshold\")\n",
    "#     plt.ylabel(\"Value\")\n",
    "#     plt.legend(loc=\"center left\")\n",
    "#     plt.ylim([0,1.1])\n",
    "    \n",
    "#     # Show the major grid lines with dark grey lines\n",
    "#     plt.grid(b=True, which='major', color='#666666', linestyle='-')\n",
    "\n",
    "#     # Show the minor grid lines with very faint and almost transparent grey lines\n",
    "#     plt.minorticks_on()\n",
    "#     plt.grid(b=True, which='minor', color='#999999', linestyle='-', alpha=0.2)\n",
    "\n",
    "#     plt.show()"
   ]
  },
  {
   "cell_type": "markdown",
   "metadata": {},
   "source": [
    "# 검증 (이미지)"
   ]
  },
  {
   "cell_type": "code",
   "execution_count": null,
   "metadata": {},
   "outputs": [],
   "source": [
    "def draw_plot_segmentation(image, pred, label):\n",
    "    \n",
    "    # pyplot의 현재 전체 이미지 크기를 백업 후 설정함\n",
    "    tmp_size = plt.rcParams[\"figure.figsize\"]\n",
    "    plt.rcParams[\"figure.figsize\"] = (15,7)  # 너비, 높이 (in)\n",
    "    \n",
    "    # 원본 데이터 출력\n",
    "    plt.subplot(1,3,1)  # 한 번에 여러 그래프 출력\n",
    "    plt.imshow(image.reshape([512,512]), cmap='gray')\n",
    "    plt.axis('off')\n",
    "    \n",
    "    # 예측 데이터 출력\n",
    "    plt.subplot(1,3,2)\n",
    "    plt.imshow(pred.reshape([512,512]), cmap='gray')\n",
    "    plt.axis('off')\n",
    "    \n",
    "    # 라벨 데이터 출력\n",
    "    plt.subplot(1,3,3)\n",
    "    plt.imshow(label.reshape([512,512]), cmap='gray')\n",
    "    plt.axis('off')  \n",
    "\n",
    "    plt.show()\n",
    "    plt.close()\n",
    "    \n",
    "    # 백업된 pyplot 이미지 크기를 복원함\n",
    "    plt.rcParams[\"figure.figsize\"] = tmp_size"
   ]
  },
  {
   "cell_type": "code",
   "execution_count": null,
   "metadata": {},
   "outputs": [],
   "source": [
    "## --- 학습 결과 및 라벨 데이터 변환 함수 ---\n",
    "def change_to_image(label, pred):\n",
    "    \n",
    "    rgb_pred = []\n",
    "    rgb_label = []\n",
    "    \n",
    "    # 예측 데이터와 라벨 데이터의 0~1 값을 0~255 값으로 변환\n",
    "    for x in range(512):\n",
    "        for y in range(512):\n",
    "            \n",
    "            pred_row = [int(pred[x][y] * 255)]\n",
    "            label_row = [int(label[x][y] * 255)]\n",
    "            \n",
    "            rgb_pred.append(pred_row)\n",
    "            rgb_label.append(label_row)\n",
    "\n",
    "    pred = np.array(rgb_pred).reshape([512,512,1])\n",
    "    label = np.array(rgb_label).reshape([512,512,1])\n",
    "    \n",
    "    return pred, label"
   ]
  },
  {
   "cell_type": "code",
   "execution_count": null,
   "metadata": {
    "scrolled": false
   },
   "outputs": [],
   "source": [
    "pred_data = []\n",
    "label_data = []\n",
    "\n",
    "# 예측 이미지와 라벨 이미지 화면 출력을 위한 변환 \n",
    "for i in range(20):\n",
    "    _pred, _label = change_to_image(analysis_y[i], predict_list[i])\n",
    "    pred_data.append(_pred)\n",
    "    label_data.append(_label)\n",
    "\n",
    "# 분석 결과 이미지 출력\n",
    "for i in range(20):\n",
    "    draw_plot_segmentation(analysis_x[i], pred_data[i], label_data[i])"
   ]
  }
 ],
 "metadata": {
  "kernelspec": {
   "display_name": "Python 3",
   "language": "python",
   "name": "python3"
  },
  "language_info": {
   "codemirror_mode": {
    "name": "ipython",
    "version": 3
   },
   "file_extension": ".py",
   "mimetype": "text/x-python",
   "name": "python",
   "nbconvert_exporter": "python",
   "pygments_lexer": "ipython3",
   "version": "3.6.9"
  }
 },
 "nbformat": 4,
 "nbformat_minor": 2
}
