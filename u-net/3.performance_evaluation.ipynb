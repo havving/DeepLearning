{
 "cells": [
  {
   "cell_type": "code",
   "execution_count": 2,
   "metadata": {},
   "outputs": [],
   "source": [
    "import time\n",
    "import warnings\n",
    "import numpy as np\n",
    "import tensorflow as tf\n",
    "from sklearn.metrics import accuracy_score, recall_score, precision_score, f1_score, classification_report, confusion_matrix\n",
    "\n",
    "# 경고 메시지 무시\n",
    "warnings.filterwarnings(action='ignore')"
   ]
  },
  {
   "cell_type": "code",
   "execution_count": 2,
   "metadata": {},
   "outputs": [],
   "source": [
    "## --- 분석 수행 및 결과 저장 클래스 선언 ---\n",
    "class CrackAnalyzer:\n",
    "    \n",
    "    def __init__(self, modeldir):\n",
    "        self.modeldir = modeldir\n",
    "        self.elapsed_time = 0\n",
    "        self.predict_list = []\n",
    "        \n",
    "    def analysis(self, input_list):\n",
    "        \n",
    "        with tf.Session() as sess:\n",
    "            print(\"START : \" + self.modeldir)\n",
    "            \n",
    "            # 모델 로딩\n",
    "            tf.saved_model.loader.load(sess, [\"serve\"], self.modeldir)\n",
    "            \n",
    "            graph = tf.get_default_graph()\n",
    "            \n",
    "            x = graph.get_tensor_by_name(\"in:0\")\n",
    "            out = graph.get_tensor_by_name(\"pred:0\")\n",
    "\n",
    "            print('input_list : {}'.format(input_list.shape))\n",
    "            print('out : {}'.format(out))\n",
    "            \n",
    "            # 모델 분석 수행\n",
    "            start_time = time.time()\n",
    "            _out = sess.run(out, feed_dict={x:input_list})\n",
    "            end_time = time.time()\n",
    "            \n",
    "            self.elapsed_time = end_time - start_time            \n",
    "            self.predict_list = _out\n",
    "            \n",
    "#             for index in range(0, input_list.shape[0]):\n",
    "#                 self.predict_list.append(np.argmax(_out[0][index], axis=0))\n",
    "                \n",
    "            print(\"END : \" + self.modeldir)\n",
    "            \n",
    "            return self.predict_list"
   ]
  },
  {
   "cell_type": "code",
   "execution_count": 3,
   "metadata": {},
   "outputs": [
    {
     "name": "stdout",
     "output_type": "stream",
     "text": [
      "load train data:  ./images.npy\n",
      "load complete\n",
      "load train label data:  ./masks.npy\n",
      "load complete\n",
      "(11298, 448, 448, 1)\n",
      "(11298, 448, 448, 1)\n"
     ]
    }
   ],
   "source": [
    "### 설정 변수 정의 ###\n",
    "# 데이터 구조\n",
    "# train_list : 학습용 데이터(이미지 개수, 448, 448, 1)\n",
    "# label_list : 학습용 라벨 데이터(이미지 개수, 448, 448, 1)\n",
    "\n",
    "# 학습 데이터 파일명\n",
    "train_list_file = \"./images.npy\"\n",
    "# 라벨 데이터 파일명\n",
    "label_list_file = \"./masks.npy\"\n",
    "\n",
    "print(\"load train data: \", train_list_file) \n",
    "train_list = np.load(train_list_file, allow_pickle=True)\n",
    "print(\"load complete\")\n",
    "\n",
    "print(\"load train label data: \", label_list_file)\n",
    "label_list = np.load(label_list_file, allow_pickle=True)\n",
    "# label_list = label_list[:,2]\n",
    "# label_list = label_list[:,2]\n",
    "print(\"load complete\")\n",
    "\n",
    "print(train_list.shape)\n",
    "print(label_list.shape)"
   ]
  },
  {
   "cell_type": "code",
   "execution_count": 4,
   "metadata": {},
   "outputs": [
    {
     "name": "stdout",
     "output_type": "stream",
     "text": [
      "analysis_x : (100, 448, 448, 1)\n"
     ]
    }
   ],
   "source": [
    "## --- 분석 데이터에서 분석 수행용 데이터 일부 추출 ---\n",
    "# 분석 데이터 설정\n",
    "# 분석할 데이터 개수\n",
    "analysis_count = 100\n",
    "# 분석 데이터 중 최초 데이터 위치 \n",
    "#base_index = np.random.randint(label_list.shape[0] - analysis_count)\n",
    "base_index = 0\n",
    "\n",
    "# 분석용 데이터와 라벨\n",
    "analysis_x = train_list[base_index:base_index + analysis_count]\n",
    "analysis_y = label_list[base_index:base_index + analysis_count]\n",
    "print('analysis_x : {}'.format(analysis_x.shape))"
   ]
  },
  {
   "cell_type": "code",
   "execution_count": 5,
   "metadata": {},
   "outputs": [
    {
     "name": "stdout",
     "output_type": "stream",
     "text": [
      "START : /src/hyebin/model/UNET/CRACK-UNET-24\n",
      "WARNING:tensorflow:From <ipython-input-2-aea326b35f44>:15: load (from tensorflow.python.saved_model.loader_impl) is deprecated and will be removed in a future version.\n",
      "Instructions for updating:\n",
      "This function will only be available through the v1 compatibility library as tf.compat.v1.saved_model.loader.load or tf.compat.v1.saved_model.load. There will be a new function for importing SavedModels in Tensorflow 2.0.\n",
      "INFO:tensorflow:Restoring parameters from /src/hyebin/model/UNET/CRACK-UNET-24/variables/variables\n",
      "input_list : (100, 448, 448, 1)\n",
      "out : Tensor(\"pred:0\", shape=(?, 448, 448, 1), dtype=float32)\n",
      "END : /src/hyebin/model/UNET/CRACK-UNET-24\n",
      "(100, 448, 448, 1)\n"
     ]
    }
   ],
   "source": [
    "## --- 분석 모델 로딩 및 분석 수행 ---\n",
    "# 분석 모델 디렉토리명\n",
    "modeldir = \"/src/hyebin/model/UNET/CRACK-UNET-24\"\n",
    "\n",
    "analyzer = CrackAnalyzer(modeldir)\n",
    "predict_list = analyzer.analysis(analysis_x)\n",
    "print(predict_list.shape)"
   ]
  },
  {
   "cell_type": "code",
   "execution_count": 6,
   "metadata": {
    "scrolled": true
   },
   "outputs": [],
   "source": [
    "### INPUT ###\n",
    "## 예측값, 라벨값, Threshold\n",
    "threshold = 0.1\n",
    "\n",
    "pred_list = []\n",
    "label_list = []\n",
    "\n",
    "for index in range(analysis_count):\n",
    "    # 예측값 \n",
    "    predict = analyzer.predict_list[index]\n",
    "    pred = np.where(predict < threshold, 1, 0)\n",
    "\n",
    "    # 라벨값\n",
    "    label = analysis_y[index]\n",
    "    \n",
    "    pred_list.append(pred)\n",
    "    label_list.append(label)"
   ]
  },
  {
   "cell_type": "code",
   "execution_count": 7,
   "metadata": {},
   "outputs": [
    {
     "name": "stdout",
     "output_type": "stream",
     "text": [
      "(100, 448, 448, 1)\n",
      "(100, 448, 448, 1)\n",
      "accuracy  :  0.13883520009566327\n",
      "right     :  7771\n",
      "precision :  0.0004580488063941279\n",
      "np.sum(pred)    :  16965441\n",
      "np.sum(label)    :  334023.0\n",
      "recall    :  0.02326486499432674\n",
      "f1        :  0.0008984093380002987\n",
      "(20070400,)\n",
      "(20070400,)\n",
      "\n",
      "accuracy: 0.138835\n",
      "precision: 0.000458\n",
      "recall: 0.023265\n",
      "f1_score: 0.000898\n",
      "\n",
      "\n",
      "              precision    recall  f1-score   support\n",
      "\n",
      "     class 0       0.89      0.14      0.24  19736377\n",
      "     class 1       0.00      0.02      0.00    334023\n",
      "\n",
      "    accuracy                           0.14  20070400\n",
      "   macro avg       0.45      0.08      0.12  20070400\n",
      "weighted avg       0.88      0.14      0.24  20070400\n",
      "\n"
     ]
    }
   ],
   "source": [
    "### 1. 정밀도(오탐) 함수 ###\n",
    "\n",
    "label = np.array(label_list)\n",
    "print(label.shape)\n",
    "pred = np.array(pred_list)\n",
    "print(pred.shape)\n",
    "\n",
    "accuracy = np.mean(np.equal(label,pred))\n",
    "print('accuracy  : ', accuracy)\n",
    "right = np.sum(label * pred == 1) # ==1 때문에 1이 나옴.. \n",
    "print('right     : ', right)\n",
    "precision = right / np.sum(pred)\n",
    "print('precision : ', precision)\n",
    "print('np.sum(pred)    : ', np.sum(pred))\n",
    "recall = right / np.sum(label)\n",
    "print('np.sum(label)    : ', np.sum(label))\n",
    "print('recall    : ', recall)\n",
    "f1 = 2 * precision*recall/(precision+recall)\n",
    "print('f1        : ', f1)\n",
    "\n",
    "# 라벨\n",
    "label = np.squeeze(label, axis=3)\n",
    "#label = label[:,-1]\n",
    "label = label.reshape(-1)  # 1차원으로 바꾸기\n",
    "print(label.shape)\n",
    "#print(label)\n",
    "\n",
    "# 예측\n",
    "pred = np.squeeze(pred, axis=3)\n",
    "pred = pred.reshape(-1)\n",
    "print(pred.shape)\n",
    "\n",
    "# accuracy: (tp + tn) / (p + n)\n",
    "print('\\naccuracy: %f'%accuracy_score(label,pred))\n",
    "# precision: tp / (tp + fp)\n",
    "print('precision: %f'%precision_score(label,pred))  # binary(이진법)가 되야함\n",
    "# recall: tp / (tp + fn)\n",
    "# f1_score\n",
    "print('recall: %f'%recall_score(label,pred))\n",
    "print('f1_score: %f'%f1_score(label,pred))\n",
    "\n",
    "print('\\n')\n",
    "print(classification_report(label,pred,target_names=['class 0', 'class 1']))"
   ]
  },
  {
   "cell_type": "code",
   "execution_count": 5,
   "metadata": {},
   "outputs": [
    {
     "name": "stdout",
     "output_type": "stream",
     "text": [
      "right: 2\n",
      "np.sum(guesses): 2\n",
      "np.sum(labels): 4\n",
      "accuracy 0.6666666666666666\n",
      "precision 1.0\n",
      "recall 0.5\n",
      "f1 0.6666666666666666\n",
      "\n",
      "accuracy:  0.6666666666666666\n",
      "precision:  1.0\n",
      "recall:  0.5\n",
      "f1_score:  0.6666666666666666\n",
      "\n",
      "\n"
     ]
    },
    {
     "ename": "NameError",
     "evalue": "name 'label' is not defined",
     "output_type": "error",
     "traceback": [
      "\u001b[0;31m---------------------------------------------------------------------------\u001b[0m",
      "\u001b[0;31mNameError\u001b[0m                                 Traceback (most recent call last)",
      "\u001b[0;32m<ipython-input-5-62990501a34a>\u001b[0m in \u001b[0;36m<module>\u001b[0;34m\u001b[0m\n\u001b[1;32m     23\u001b[0m \u001b[0;34m\u001b[0m\u001b[0m\n\u001b[1;32m     24\u001b[0m \u001b[0mprint\u001b[0m\u001b[0;34m(\u001b[0m\u001b[0;34m'\\n'\u001b[0m\u001b[0;34m)\u001b[0m\u001b[0;34m\u001b[0m\u001b[0;34m\u001b[0m\u001b[0m\n\u001b[0;32m---> 25\u001b[0;31m \u001b[0mprint\u001b[0m\u001b[0;34m(\u001b[0m\u001b[0mclassification_report\u001b[0m\u001b[0;34m(\u001b[0m\u001b[0mlabel\u001b[0m\u001b[0;34m,\u001b[0m\u001b[0mpred\u001b[0m\u001b[0;34m,\u001b[0m\u001b[0mtarget_names\u001b[0m\u001b[0;34m=\u001b[0m\u001b[0;34m[\u001b[0m\u001b[0;34m'class 0'\u001b[0m\u001b[0;34m,\u001b[0m \u001b[0;34m'class 1'\u001b[0m\u001b[0;34m]\u001b[0m\u001b[0;34m)\u001b[0m\u001b[0;34m)\u001b[0m\u001b[0;34m\u001b[0m\u001b[0;34m\u001b[0m\u001b[0m\n\u001b[0m",
      "\u001b[0;31mNameError\u001b[0m: name 'label' is not defined"
     ]
    }
   ],
   "source": [
    "### 2. 재현율(미탐) 함수 ###\n",
    "labels = np.array([1,1,1,1,0,0]) #0은 정상(실력자), 1은 음치\n",
    "guesses = np.array([1,1,0,0,0,0]) #나의 예측\n",
    "\n",
    "accuracy = np.mean(np.equal(labels,guesses))\n",
    "right = np.sum(labels * guesses == 1)\n",
    "print('right:',right)\n",
    "precision = right / np.sum(guesses)\n",
    "print('np.sum(guesses):',np.sum(guesses))\n",
    "recall = right / np.sum(labels)\n",
    "print('np.sum(labels):',np.sum(labels))\n",
    "f1 = 2 * precision*recall/(precision+recall)\n",
    "\n",
    "print('accuracy',accuracy)\n",
    "print('precision', precision)\n",
    "print('recall', recall)\n",
    "print('f1', f1)\n",
    "\n",
    "print('\\naccuracy: ', accuracy_score(labels, guesses))\t# 0.3\n",
    "print('precision: ', precision_score(labels, guesses))\t# 0.5\n",
    "print('recall: ', recall_score(labels, guesses))\t# 0.42\n",
    "print('f1_score: ', f1_score(labels, guesses))\t# 0.46\n",
    "\n",
    "print('\\n')\n",
    "print(classification_report(label,pred,target_names=['class 0', 'class 1']))"
   ]
  },
  {
   "cell_type": "code",
   "execution_count": 9,
   "metadata": {},
   "outputs": [],
   "source": [
    "### 3. 정확도 함수 ###"
   ]
  }
 ],
 "metadata": {
  "kernelspec": {
   "display_name": "Python 3",
   "language": "python",
   "name": "python3"
  },
  "language_info": {
   "codemirror_mode": {
    "name": "ipython",
    "version": 3
   },
   "file_extension": ".py",
   "mimetype": "text/x-python",
   "name": "python",
   "nbconvert_exporter": "python",
   "pygments_lexer": "ipython3",
   "version": "3.6.8"
  }
 },
 "nbformat": 4,
 "nbformat_minor": 2
}
