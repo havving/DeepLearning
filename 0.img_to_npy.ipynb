{
 "cells": [
  {
   "cell_type": "code",
   "execution_count": 3,
   "metadata": {},
   "outputs": [],
   "source": [
    "import numpy as np\n",
    "import cv2\n",
    "import os\n",
    "import re"
   ]
  },
  {
   "cell_type": "code",
   "execution_count": 2,
   "metadata": {},
   "outputs": [],
   "source": [
    "## 파일에서 이미지를 읽어와 배열로 전환하는 함수\n",
    "# 입력 : 이미지 파일 위치\n",
    "# 출력 : 이미지 배열\n",
    "def readImgToArray(img_path):\n",
    "    \n",
    "    # 파일 이미지를 읽어옴\n",
    "    org_img = cv2.imread(img_path, cv2.IMREAD_GRAYSCALE)\n",
    "    \n",
    "    # 0~1 사이의 값으로 변경하기 위해 '255'로 나눔\n",
    "    scaled_img = org_img/255\n",
    "    \n",
    "    # Tensorflow 모델에 넣기 위해\n",
    "    # [544,384] 형태를 [544,384,1]로 변경\n",
    "    reshaped_img = scaled_img.reshape([544,384,1])\n",
    "    \n",
    "    return reshaped_img"
   ]
  },
  {
   "cell_type": "code",
   "execution_count": 3,
   "metadata": {},
   "outputs": [],
   "source": [
    "## 상수값 설정\n",
    "# 균열 이미지 root 위치\n",
    "img_path_list = \"/src/data/DeepCrack/train/all_img\"\n",
    "# 라벨 이미지 root 위치\n",
    "lab_path_list = \"/src/data/DeepCrack/train/all_label\""
   ]
  },
  {
   "cell_type": "code",
   "execution_count": 4,
   "metadata": {
    "scrolled": true
   },
   "outputs": [
    {
     "name": "stdout",
     "output_type": "stream",
     "text": [
      "<class 'list'>\n",
      "['11112.jpg', '11113.jpg', '11114.jpg', '11115.jpg', '11116-1.jpg', '11116-2.jpg', '11116-3.jpg', '11116-4.jpg', '11116.jpg', '11117.jpg', '11118.jpg', '11119.jpg', '11120.jpg', '11121.jpg', '111212-1.jpg', '11122-1.jpg', '11122-2.jpg', '11122-3.jpg', '11122-4.jpg', '11122-5.jpg', '11122.jpg', '11123-1.jpg', '11123-2.jpg', '11123-3.jpg', '11123-4.jpg', '11123-5.jpg', '11123-6.jpg', '11123.jpg', '11124.jpg', '11125-1.jpg', '11125-2.jpg', '11125-3.jpg', '11126.jpg', '11129.jpg', '11130.jpg', '11131.jpg', '11132.jpg', '11133.jpg', '11134-1.jpg', '11134-2.jpg', '11134-3.jpg', '11134-4.jpg', '11134-5.jpg', '11134-6.jpg', '11134.jpg', '11135.jpg', '11136.jpg', '11137.jpg', '11138.jpg', '11139.jpg', '11140-1.jpg', '11140-6.jpg', '11140.jpg', '11141-1.jpg', '11141-2.jpg', '11141-3.jpg', '11141-4.jpg', '11141.jpg', '11142-1.jpg', '11142-2.jpg', '11142.jpg', '11143.jpg', '11144.jpg', '11148.jpg', '11149.jpg', '11150.jpg', '11151-1.jpg', '11151-2.jpg', '11151-3.jpg', '11151-4.jpg', '11151.jpg', '11152.jpg', '11153.jpg', '11154.jpg', '11155-1.jpg', '11111.jpg', '11155-2.jpg', '11155-3.jpg', '11155-4.jpg', '11155.jpg', '11156-1.jpg', '11156-2.jpg', '11156.jpg', '11157-1.jpg', '11157.jpg', '11158.jpg', '11159.jpg', '11162-1.jpg', '11162-2.jpg', '11162-3.jpg', '11162-4.jpg', '11162.jpg', '11163-1.jpg', '11163.jpg', '11164-2.jpg', '11164-4.jpg', '11165-1.jpg', '11165-2.jpg', '11165.jpg', '11166-1.jpg', '11166-2.jpg', '11166.jpg', '11167-1.jpg', '11167-2.jpg', '11167.jpg', '11168-2.jpg', '11168.jpg', '11169-1.jpg', '11169-2.jpg', '11170-1.jpg', '11170-2.jpg', '11170.jpg', '11171.jpg', '11174.jpg', '11175-1.jpg', '11175-2.jpg', '11175-3.jpg', '11175.jpg', '11176.jpg', '11177.jpg', '11178-1.jpg', '11178-2.jpg', '11178-3.jpg', '11178-4.jpg', '11178.jpg', '11179-1.jpg', '11179-2.jpg', '11179-3.jpg', '11179-4.jpg', '11179-5.jpg', '11179.jpg', '11180.jpg', '11181.jpg', '11182-1.jpg', '11182-2.jpg', '11183.jpg', '11184-1.jpg', '11184-2.jpg', '11184.jpg', '11185-1.jpg', '11185.jpg', '11186.jpg', '11187-1.jpg', '11187-2.jpg', '11187-3.jpg', '11187-4.jpg', '11187-5.jpg', '11187-6.jpg', '11187.jpg', '11188-1.jpg', '11188-2.jpg', '11188.jpg', '11189-1.jpg', '11189-2.jpg', '11189.jpg', '11190-1.jpg', '11190-2.jpg', '11190-3.jpg', '11190-4.jpg', '11190-5.jpg', '11190-6.jpg', '11190-7.jpg', '11190.jpg', '11192-1.jpg', '11192-2.jpg', '11192.jpg', '11193-1.jpg', '11193-2.jpg', '11193-3.jpg', '11193.jpg', '11194.jpg', '11196.jpg', '11197-1.jpg', '11197-2.jpg', '11197-3.jpg', '11197-4.jpg', '11198.jpg', '11200-1.jpg', '11200-2.jpg', '11202.jpg', '11203.jpg', '11204.jpg', '11215-1.jpg', '11215-10.jpg', '11215-11.jpg', '11215-12.jpg', '11215-13.jpg', '11215-14.jpg', '11215-15.jpg', '11215-2.jpg', '11215-3.jpg', '11215-4.jpg', '11215-5.jpg', '11215-6.jpg', '11215-7.jpg', '11215-8.jpg', '11215-9.jpg', '11216.jpg', '11217.jpg', '11218-1.jpg', '11218-2.jpg', '11218-3.jpg', '11220-1.jpg', '11222-1.jpg', '11222-2.jpg', '11222-3.jpg', '11231-1.jpg', '11231-2.jpg', '11231-3.jpg', '11231-4.jpg', '11231-5.jpg', '11231-6.jpg', '11231-7.jpg', '11231-8.jpg', '11231-9.jpg', '11236-1.jpg', '11236-2.jpg', '11236-3.jpg', '11236-4.jpg', '11236-5.jpg', '11236-6.jpg', '11236-7.jpg', '11239-1.jpg', '11239-2.jpg', '11239-3.jpg', '11240-1.jpg', '11240-10.jpg', '11240-11.jpg', '11240-12.jpg', '11240-2.jpg', '11240-3.jpg', '11240-4.jpg', '11240-5.jpg', '11240-6.jpg', '11240-7.jpg', '11240-8.jpg', '11240-9.jpg', '11247-1.jpg', '11247-10.jpg', '11247-12.jpg', '11247-2.jpg', '11247-3.jpg', '11247-4.jpg', '11247-5.jpg', '11247-6.jpg', '11247-7.jpg', '11247-8.jpg', '11247-9.jpg', '11248-1.jpg', '11248-2.jpg', '11248-3.jpg', '11249-1.jpg', '11249-2.jpg', '11249-3.jpg', '11249-4.jpg', '11249-5.jpg', '11249-6.jpg', '11249-7.jpg', '11249-8.jpg', '11258-1.jpg', '11258-2.jpg', '11266-1.jpg', '11266-2.jpg', '11266-3.jpg', '11266-4.jpg', '11266-5.jpg', '11267-1.jpg', '11267-2.jpg', '11267-3.jpg', '11267-4.jpg', '11267-5.jpg', '11269-1.jpg', '11269-2.jpg', '11269-3.jpg', '11269-4.jpg', '11269-5.jpg', '11269-6.jpg', '11270-1.jpg', '11270-2.jpg', '11271-1.jpg', '11271-2.jpg', '11271-3.jpg', '11271-4.jpg', '11271-5.jpg', '11271-6.jpg', '11275-1.jpg', '11275-2.jpg', '11275-3.jpg', '11276-1.jpg', '11284-1.jpg', '11286-1.jpg', '11286-2.jpg', '11286-3.jpg', '11289-1 (2).jpg', '11289-1.jpg', '11289-10 (2).jpg', '11289-10.jpg', '11289-11.jpg', '11289-2 (2).jpg', '11289-2.jpg', '11289-3 (2).jpg', '11289-3.jpg', '11289-4 (2).jpg', '11289-4.jpg', '11289-5 (2).jpg', '11289-5.jpg', '11289-6 (2).jpg', '11289-6.jpg', '11289-7 (2).jpg', '11289-7.jpg', '11289-8 (2).jpg', '11289-8.jpg', '11289-9 (2).jpg', '11289-9.jpg', '11294.jpg', '11295.jpg', '11296-1.jpg', '11296-10.jpg', '11296-11.jpg', '11296-12.jpg', '11296-13.jpg', '11296-14.jpg', '11296-15.jpg', '11296-16.jpg', '11296-17.jpg', '11296-18.jpg', '11296-19.jpg', '11296-2.jpg', '11296-20.jpg', '11296-21.jpg', '11296-22.jpg', '11296-23.jpg', '11296-3.jpg', '11296-4.jpg', '11296-5.jpg', '11296-6.jpg', '11296-7.jpg', '11296-8.jpg', '11296-9.jpg', '11300.jpg', '11301-1.jpg', '11301-2.jpg', '11301-3.jpg', '11301-4.jpg', '11301-5.jpg', '11301-6.jpg', '11302-1.jpg', '11302-2.jpg', '11304.jpg', '11305-1.jpg', '11305-2.jpg', '11308-1.jpg', '11308-2.jpg', '11309-1.jpg', '7Q3A9060-1.jpg', '7Q3A9060-10.jpg', '7Q3A9060-11.jpg', '7Q3A9060-12.jpg', '7Q3A9060-13.jpg', '7Q3A9060-14.jpg', '7Q3A9060-15.jpg', '7Q3A9060-16.jpg', '7Q3A9060-17.jpg', '7Q3A9060-18.jpg', '7Q3A9060-19.jpg', '7Q3A9060-2.jpg', '7Q3A9060-20.jpg', '7Q3A9060-3.jpg', '7Q3A9060-4.jpg', '7Q3A9060-5.jpg', '7Q3A9060-6.jpg', '7Q3A9060-7.jpg', '7Q3A9060-8.jpg', '7Q3A9060-9.jpg', '7Q3A9064-1.jpg', '7Q3A9064-10.jpg', '7Q3A9064-11.jpg', '7Q3A9064-12.jpg', '7Q3A9064-13.jpg', '7Q3A9064-14.jpg', '7Q3A9064-15.jpg', '7Q3A9064-16.jpg', '7Q3A9064-17.jpg', '7Q3A9064-18.jpg', '7Q3A9064-19.jpg', '7Q3A9064-2.jpg', '7Q3A9064-20.jpg', '7Q3A9064-3.jpg', '7Q3A9064-4.jpg', '7Q3A9064-5.jpg', '7Q3A9064-6.jpg', '7Q3A9064-7.jpg', '7Q3A9064-8.jpg', '7Q3A9064-9.jpg', 'IMG108.jpg', 'IMG109-1.jpg', 'IMG11-1.jpg', 'IMG11-2.jpg', 'IMG11-3.jpg', 'IMG11-4.jpg', 'IMG11-5.jpg', 'IMG11-6.jpg', 'IMG12-1.jpg', 'IMG12-2.jpg', 'IMG12.jpg', 'IMG13-1.jpg', 'IMG13-2.jpg', 'IMG13-3.jpg', 'IMG13-4.jpg', 'IMG13-5.jpg', 'IMG13-6.jpg', 'IMG13-7.jpg', 'IMG136.jpg', 'IMG14-1.jpg', 'IMG14-2.jpg', 'IMG14-3.jpg', 'IMG14-4.jpg', 'IMG16.jpg', 'IMG17.jpg', 'IMG18.jpg', 'IMG19.jpg', 'IMG20.jpg', 'IMG21.jpg', 'IMG24-1.jpg', 'IMG24-2.jpg', 'IMG24-3.jpg', 'IMG25-1.jpg', 'IMG25-10.jpg', 'IMG25-2.jpg', 'IMG25-3.jpg', 'IMG25-4.jpg', 'IMG25-5.jpg', 'IMG25-6.jpg', 'IMG25-7.jpg', 'IMG25-8.jpg', 'IMG25-9.jpg', 'IMG27-1.jpg', 'IMG27-10.jpg', 'IMG27-11.jpg', 'IMG27-12.jpg', 'IMG27-13.jpg', 'IMG27-2.jpg', 'IMG27-3.jpg', 'IMG27-4.jpg', 'IMG27-5.jpg', 'IMG27-6.jpg', 'IMG27-7.jpg', 'IMG27-8.jpg', 'IMG27-9.jpg', 'IMG33-1.jpg', 'IMG33-10.jpg', 'IMG33-11.jpg', 'IMG33-12.jpg', 'IMG33-13.jpg', 'IMG33-14.jpg', 'IMG33-15.jpg', 'IMG33-16.jpg', 'IMG33-17.jpg', 'IMG33-18.jpg', 'IMG33-2.jpg', 'IMG33-3.jpg', 'IMG33-4.jpg', 'IMG33-5.jpg', 'IMG33-6.jpg', 'IMG33-7.jpg', 'IMG33-8.jpg', 'IMG33-9.jpg', 'IMG36-1.jpg', 'IMG36-2.jpg', 'IMG36-3.jpg', 'IMG39-1.jpg', 'IMG39-2.jpg', 'IMG49.jpg', 'IMG5.jpg', 'IMG56.jpg', 'IMG6-1.jpg', 'IMG6-2.jpg', 'IMG74.jpg', 'IMG88.jpg', 'IMG_5776-1.jpg', 'IMG_5776-2.jpg', 'IMG_5778-1.jpg', 'IMG_6469-1.jpg', 'IMG_6469-2.jpg', 'IMG_6469-3.jpg', 'IMG_6469-4.jpg', 'IMG_6469-5.jpg', 'IMG_6469-6.jpg', 'IMG_6469-7.jpg', 'IMG_6472-1.jpg', 'IMG_6472-2.jpg', 'IMG_6472-3.jpg', 'IMG_6472-4.jpg', 'IMG_6472-5.jpg', 'IMG_6472-6.jpg', 'IMG_6472-7.jpg', 'IMG_6472-8.jpg', 'IMG_6514-1.jpg', 'IMG_6514-2.jpg', 'IMG_6514-3.jpg', 'IMG_6516-1.jpg', 'IMG_6516-2.jpg', 'IMG_6516-3.jpg', 'IMG_6516-4.jpg', 'IMG_6522-1.jpg', 'IMG_6522-3.jpg', 'IMG_6526-1.jpg', 'IMG_6526-2.jpg', 'IMG_6526-3.jpg', 'IMG_6526-4.jpg', 'IMG_6528-1.jpg', 'IMG_6528-3.jpg', 'IMG_6533-3.jpg', 'IMG_6536-1.jpg', 'IMG_6536-2.jpg', 'IMG_6536-3.jpg', 'IMG_6536-4.jpg', 'IMG_6536-5.jpg', 'IMG_6536-6.jpg', 'IMG_6536-7.jpg', 'IMG_6537-1.jpg', 'IMG_6537-2.jpg', 'IMG_6537-3.jpg', 'IMG_6537-4.jpg', 'IMG_6537-5.jpg', 'IMG_6538-1.jpg', 'IMG_6538-3.jpg', 'IMG_6542-1.jpg', 'IMG_6542-2.jpg', 'IMG_6542-3.jpg', 'IMG_6542-4.jpg', 'IMG_6542-5.jpg', 'IMG_6542-7.jpg', 'IMG_6544-1.jpg', 'IMG_6544-2.jpg', 'IMG_6544-3.jpg', 'IMG_6544-4.jpg']\n"
     ]
    }
   ],
   "source": [
    "## 이미지/라벨 디렉토리에서 이미지를 읽어와 배열에 저장\n",
    "# 이미지 : jpg\n",
    "# 라벨 : png\n",
    "\n",
    "# 균열 이미지 디렉토리에서 jpg파일을 읽어옴\n",
    "img_file_list = [img_file for img_file in os.listdir(img_path_list)]\n",
    "print(type(img_file_list))\n",
    "print(img_file_list)"
   ]
  },
  {
   "cell_type": "code",
   "execution_count": 5,
   "metadata": {},
   "outputs": [],
   "source": [
    "# 균열 이미지와 라벨 이미지의 배열\n",
    "img_list = []\n",
    "lab_list = []\n",
    "\n",
    "for img_file in img_file_list:\n",
    "    \n",
    "    # img_file명에 따라 균열, 라벨 이미지 파일 절대경로 설정\n",
    "    # 라벨 이미지 파일은 .png 확장자이므로 균열 이미지의 .jpg 확장자를 .png로 변경\n",
    "    img_path = \"/\".join([img_path_list, img_file])\n",
    "    #print(img_path)\n",
    "    lab_path = re.sub(\".jpg$\", \".png\", \"/\".join([lab_path_list, img_file]))\n",
    "    #print(lab_path)\n",
    "    \n",
    "    # 균열, 라벨 이미지 파일 읽기\n",
    "    img_data = readImgToArray(img_path)\n",
    "    #print(img_data)\n",
    "    lab_data = readImgToArray(lab_path)\n",
    "    #print(lab_data)\n",
    "    \n",
    "    # 균열, 라벨 이미지 배열에 데이터 추가\n",
    "    img_list.append(img_data)\n",
    "    #pint(img_list)\n",
    "    lab_list.append(lab_data)\n",
    "    #rint(lab_list)    "
   ]
  },
  {
   "cell_type": "code",
   "execution_count": 6,
   "metadata": {},
   "outputs": [
    {
     "name": "stdout",
     "output_type": "stream",
     "text": [
      "(537, 544, 384, 1)\n",
      "(537, 544, 384, 1)\n"
     ]
    }
   ],
   "source": [
    "## 배열 → numpy 변환\n",
    "img_list = np.array(img_list)\n",
    "lab_list = np.array(lab_list)\n",
    "\n",
    "print(img_list.shape)\n",
    "print(lab_list.shape)"
   ]
  },
  {
   "cell_type": "code",
   "execution_count": 7,
   "metadata": {},
   "outputs": [],
   "source": [
    "## npy 파일 저장\n",
    "np.save(\"/src/data/DeepCrack/npy/train_data\", img_list)\n",
    "np.save(\"/src/data/DeepCrack/npy/train_label\", lab_list)"
   ]
  }
 ],
 "metadata": {
  "kernelspec": {
   "display_name": "Python 3",
   "language": "python",
   "name": "python3"
  },
  "language_info": {
   "codemirror_mode": {
    "name": "ipython",
    "version": 3
   },
   "file_extension": ".py",
   "mimetype": "text/x-python",
   "name": "python",
   "nbconvert_exporter": "python",
   "pygments_lexer": "ipython3",
   "version": "3.6.9"
  }
 },
 "nbformat": 4,
 "nbformat_minor": 2
}
